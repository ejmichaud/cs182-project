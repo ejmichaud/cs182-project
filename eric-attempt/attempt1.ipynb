{
 "cells": [
  {
   "cell_type": "code",
   "execution_count": 1,
   "id": "absolute-unknown",
   "metadata": {},
   "outputs": [],
   "source": [
    "import json\n",
    "import pathlib\n",
    "from itertools import islice\n",
    "from tqdm.auto import tqdm\n",
    "\n",
    "import numpy as np\n",
    "import matplotlib.pyplot as plt\n",
    "\n",
    "import torch\n",
    "import torch.nn as nn\n",
    "from transformers import BertTokenizer, BertForSequenceClassification\n",
    "from transformers import DistilBertTokenizer, DistilBertForSequenceClassification"
   ]
  },
  {
   "cell_type": "code",
   "execution_count": 2,
   "id": "collective-diary",
   "metadata": {},
   "outputs": [],
   "source": [
    "device = 'cuda:0' if torch.cuda.is_available() else 'cpu'\n",
    "# device = 'cpu'"
   ]
  },
  {
   "cell_type": "markdown",
   "id": "large-pension",
   "metadata": {},
   "source": [
    "## Load up tokenizer and model"
   ]
  },
  {
   "cell_type": "code",
   "execution_count": 3,
   "id": "collected-boating",
   "metadata": {},
   "outputs": [
    {
     "name": "stderr",
     "output_type": "stream",
     "text": [
      "Some weights of the model checkpoint at distilbert-base-uncased were not used when initializing DistilBertForSequenceClassification: ['vocab_transform.weight', 'vocab_transform.bias', 'vocab_layer_norm.weight', 'vocab_layer_norm.bias', 'vocab_projector.weight', 'vocab_projector.bias']\n",
      "- This IS expected if you are initializing DistilBertForSequenceClassification from the checkpoint of a model trained on another task or with another architecture (e.g. initializing a BertForSequenceClassification model from a BertForPreTraining model).\n",
      "- This IS NOT expected if you are initializing DistilBertForSequenceClassification from the checkpoint of a model that you expect to be exactly identical (initializing a BertForSequenceClassification model from a BertForSequenceClassification model).\n",
      "Some weights of DistilBertForSequenceClassification were not initialized from the model checkpoint at distilbert-base-uncased and are newly initialized: ['pre_classifier.weight', 'pre_classifier.bias', 'classifier.weight', 'classifier.bias']\n",
      "You should probably TRAIN this model on a down-stream task to be able to use it for predictions and inference.\n"
     ]
    }
   ],
   "source": [
    "tokenizer = DistilBertTokenizer.from_pretrained('distilbert-base-uncased')\n",
    "model = DistilBertForSequenceClassification.from_pretrained('distilbert-base-uncased').to(device)\n",
    "model.classifier = nn.Sequential(\n",
    "    nn.Linear(in_features=768, out_features=800, bias=True),\n",
    "    nn.Linear(in_features=800, out_features=5, bias=True),\n",
    ").to(device)\n"
   ]
  },
  {
   "cell_type": "markdown",
   "id": "charged-tulsa",
   "metadata": {},
   "source": [
    "## Create and load dataset\n",
    "\n",
    "**Note that there are 533581 examples in our dataset**"
   ]
  },
  {
   "cell_type": "code",
   "execution_count": 4,
   "id": "selected-permission",
   "metadata": {},
   "outputs": [],
   "source": [
    "class YelpDataset(torch.utils.data.Dataset):\n",
    "    \"\"\"Yelp reviews dataset (533581 reviews)\"\"\"\n",
    "\n",
    "    def __init__(self, json_file='../yelp_review_training_dataset.jsonl', transform=None):\n",
    "        \"\"\"\n",
    "        Args:\n",
    "            json_file (string): Path to the json file for dataset\n",
    "            transform (callable, optional): Optional transform to be applied\n",
    "                on a sample.\n",
    "        \"\"\"\n",
    "        with open(json_file, 'r') as f:\n",
    "            self.data = [json.loads(line) for line in f]\n",
    "        self.transform = transform\n",
    "\n",
    "    def __len__(self):\n",
    "        return len(self.data)\n",
    "\n",
    "    def __getitem__(self, idx):\n",
    "#         if torch.is_tensor(idx):\n",
    "#             idx = idx.tolist()\n",
    "        text, review = self.data[idx]['text'], int(self.data[idx]['stars'])\n",
    "        sample = (text, review - 1) # subtract one so that one-hot label is in [0, 4]\n",
    "        if self.transform:\n",
    "            sample = self.transform(sample)\n",
    "        return sample"
   ]
  },
  {
   "cell_type": "code",
   "execution_count": 5,
   "id": "genuine-treaty",
   "metadata": {},
   "outputs": [],
   "source": [
    "data = YelpDataset()"
   ]
  },
  {
   "cell_type": "code",
   "execution_count": 6,
   "id": "painful-bolivia",
   "metadata": {},
   "outputs": [],
   "source": [
    "train = torch.utils.data.Subset(data, range(400000))\n",
    "val = torch.utils.data.Subset(data, range(400000, 500000))"
   ]
  },
  {
   "cell_type": "code",
   "execution_count": 7,
   "id": "future-brave",
   "metadata": {},
   "outputs": [],
   "source": [
    "train_loader = torch.utils.data.DataLoader(train, batch_size=10,\n",
    "                        shuffle=True)\n",
    "val_loader = torch.utils.data.DataLoader(val, batch_size=10,\n",
    "                        shuffle=True)"
   ]
  },
  {
   "cell_type": "markdown",
   "id": "framed-behavior",
   "metadata": {},
   "source": [
    "## Train the classifier"
   ]
  },
  {
   "cell_type": "code",
   "execution_count": 8,
   "id": "decent-syndrome",
   "metadata": {},
   "outputs": [],
   "source": [
    "optimizer = torch.optim.Adam(model.classifier.parameters())\n",
    "loss_fn = nn.CrossEntropyLoss(reduction='sum')"
   ]
  },
  {
   "cell_type": "markdown",
   "id": "higher-northwest",
   "metadata": {},
   "source": [
    "### Let's start with 1 epoch"
   ]
  },
  {
   "cell_type": "code",
   "execution_count": 9,
   "id": "prescription-israel",
   "metadata": {},
   "outputs": [],
   "source": [
    "val_accuracies = []\n",
    "val_losses = []"
   ]
  },
  {
   "cell_type": "code",
   "execution_count": 10,
   "id": "taken-keyboard",
   "metadata": {},
   "outputs": [
    {
     "data": {
      "application/vnd.jupyter.widget-view+json": {
       "model_id": "72843741ee3e4ded9027e7ecf7c7383a",
       "version_major": 2,
       "version_minor": 0
      },
      "text/plain": [
       "  0%|          | 0/40000 [00:00<?, ?it/s]"
      ]
     },
     "metadata": {},
     "output_type": "display_data"
    },
    {
     "name": "stdout",
     "output_type": "stream",
     "text": [
      "Acc: 30.60%\n",
      "Acc: 70.00%\n",
      "Acc: 73.00%\n",
      "Acc: 70.40%\n",
      "Acc: 74.80%\n",
      "Acc: 70.60%\n",
      "Acc: 76.00%\n",
      "Acc: 67.80%\n",
      "Acc: 72.60%\n",
      "Acc: 71.40%\n",
      "Acc: 75.40%\n",
      "Acc: 71.20%\n",
      "Acc: 73.80%\n",
      "Acc: 68.00%\n",
      "Acc: 69.00%\n",
      "Acc: 72.60%\n",
      "Acc: 73.60%\n",
      "Acc: 72.00%\n",
      "Acc: 75.20%\n",
      "Acc: 62.40%\n",
      "Acc: 70.40%\n",
      "Acc: 70.40%\n",
      "Acc: 72.40%\n",
      "Acc: 75.00%\n",
      "Acc: 74.40%\n",
      "Acc: 76.00%\n",
      "Acc: 72.80%\n",
      "Acc: 74.60%\n",
      "Acc: 69.40%\n",
      "Acc: 74.00%\n",
      "Acc: 75.00%\n",
      "Acc: 71.40%\n",
      "Acc: 70.40%\n",
      "Acc: 71.80%\n",
      "Acc: 69.40%\n",
      "Acc: 69.60%\n",
      "Acc: 71.60%\n",
      "Acc: 72.80%\n",
      "Acc: 69.60%\n",
      "Acc: 72.20%\n",
      "Acc: 68.60%\n",
      "Acc: 75.40%\n",
      "Acc: 74.00%\n",
      "Acc: 72.00%\n",
      "Acc: 71.20%\n",
      "Acc: 72.40%\n",
      "Acc: 72.00%\n",
      "Acc: 72.80%\n",
      "Acc: 66.80%\n",
      "Acc: 71.40%\n",
      "Acc: 71.00%\n",
      "Acc: 72.20%\n",
      "Acc: 70.80%\n",
      "Acc: 68.00%\n",
      "Acc: 71.60%\n",
      "Acc: 73.40%\n",
      "Acc: 68.20%\n",
      "Acc: 73.00%\n",
      "Acc: 70.20%\n",
      "Acc: 70.00%\n",
      "Acc: 70.00%\n",
      "Acc: 71.60%\n",
      "Acc: 72.40%\n",
      "Acc: 74.20%\n",
      "Acc: 69.20%\n",
      "Acc: 70.20%\n",
      "Acc: 72.00%\n",
      "Acc: 70.40%\n",
      "Acc: 70.00%\n",
      "Acc: 71.80%\n",
      "Acc: 71.20%\n",
      "Acc: 74.00%\n",
      "Acc: 74.60%\n",
      "Acc: 70.80%\n",
      "Acc: 71.80%\n",
      "Acc: 73.20%\n",
      "Acc: 70.20%\n",
      "Acc: 69.40%\n",
      "Acc: 71.00%\n",
      "Acc: 73.00%\n",
      "Acc: 73.40%\n",
      "Acc: 68.20%\n",
      "Acc: 67.60%\n",
      "Acc: 72.80%\n",
      "Acc: 73.40%\n",
      "Acc: 69.80%\n",
      "Acc: 74.20%\n",
      "Acc: 67.60%\n",
      "Acc: 71.00%\n",
      "Acc: 71.00%\n",
      "Acc: 75.80%\n",
      "Acc: 71.60%\n",
      "Acc: 69.20%\n",
      "Acc: 75.40%\n",
      "Acc: 68.40%\n",
      "Acc: 71.80%\n",
      "Acc: 75.20%\n",
      "Acc: 71.40%\n",
      "Acc: 70.60%\n",
      "Acc: 69.20%\n"
     ]
    }
   ],
   "source": [
    "model.train()\n",
    "for i, (reviews, classes) in enumerate(tqdm(train_loader)): # use the term 'class' instead of 'rating' to denote that class = rating - 1\n",
    "    \n",
    "    if i % (400000 / 10 / 100) == 0: # do 100 val acc computations\n",
    "        model.eval()\n",
    "        testing_loss = 0\n",
    "        testing_accuracy = 0\n",
    "        outof = 0\n",
    "        with torch.no_grad():\n",
    "            for reviews, classes in islice(val_loader, 50): # 50 * batch_size examples to evaluate on\n",
    "                inputs = tokenizer(reviews, return_tensors=\"pt\", padding=True, truncation=True)\n",
    "                logits = model(**inputs.to(device)).logits\n",
    "                _, pred = torch.max(logits, 1)\n",
    "                testing_accuracy += (pred == classes.to(device)).sum().item()\n",
    "                testing_loss += loss_fn(logits, classes.to(device))\n",
    "                outof += len(classes)\n",
    "        print(\"Acc: {:.2f}%\".format(testing_accuracy / outof * 100))\n",
    "        val_accuracies.append(testing_accuracy / outof)\n",
    "        val_losses.append(testing_loss / outof)\n",
    "        model.train()\n",
    "    \n",
    "    optimizer.zero_grad()\n",
    "    inputs = tokenizer(reviews, return_tensors=\"pt\", padding=True, truncation=True)\n",
    "    logits = model(**inputs.to(device)).logits\n",
    "    loss = loss_fn(logits, classes.to(device))\n",
    "    loss.backward()\n",
    "    optimizer.step()\n",
    "        "
   ]
  },
  {
   "cell_type": "code",
   "execution_count": 15,
   "id": "further-federation",
   "metadata": {},
   "outputs": [
    {
     "data": {
      "image/png": "[encoded data removed]",
      "text/plain": [
       "<Figure size 432x288 with 1 Axes>"
      ]
     },
     "metadata": {
      "needs_background": "light"
     },
     "output_type": "display_data"
    }
   ],
   "source": [
    "plt.plot(val_accuracies)\n",
    "plt.ylabel(\"Validation Accuracy\")\n",
    "plt.xlabel(\"Fraction of Epoch completed (%)\")\n",
    "plt.savefig(\"accuracy_plot.pdf\")"
   ]
  },
  {
   "cell_type": "code",
   "execution_count": 17,
   "id": "conscious-cleanup",
   "metadata": {},
   "outputs": [
    {
     "data": {
      "image/png": "[encoded data removed]",
      "text/plain": [
       "<Figure size 432x288 with 1 Axes>"
      ]
     },
     "metadata": {
      "needs_background": "light"
     },
     "output_type": "display_data"
    }
   ],
   "source": [
    "plt.plot(val_losses)\n",
    "plt.ylabel(\"Validation Loss\")\n",
    "plt.xlabel(\"Fraction of Epoch completed (%)\")\n",
    "plt.savefig(\"loss_plot.pdf\")"
   ]
  },
  {
   "cell_type": "code",
   "execution_count": null,
   "id": "southwest-acceptance",
   "metadata": {},
   "outputs": [],
   "source": []
  },
  {
   "cell_type": "code",
   "execution_count": null,
   "id": "connected-customer",
   "metadata": {},
   "outputs": [],
   "source": []
  },
  {
   "cell_type": "code",
   "execution_count": null,
   "id": "adequate-picture",
   "metadata": {},
   "outputs": [],
   "source": []
  },
  {
   "cell_type": "code",
   "execution_count": null,
   "id": "informational-refrigerator",
   "metadata": {},
   "outputs": [],
   "source": []
  },
  {
   "cell_type": "code",
   "execution_count": null,
   "id": "sophisticated-contrast",
   "metadata": {},
   "outputs": [],
   "source": []
  },
  {
   "cell_type": "code",
   "execution_count": null,
   "id": "stopped-bikini",
   "metadata": {},
   "outputs": [],
   "source": []
  },
  {
   "cell_type": "code",
   "execution_count": null,
   "id": "cardiac-sussex",
   "metadata": {},
   "outputs": [],
   "source": []
  },
  {
   "cell_type": "code",
   "execution_count": null,
   "id": "robust-outdoors",
   "metadata": {},
   "outputs": [],
   "source": []
  },
  {
   "cell_type": "code",
   "execution_count": null,
   "id": "recorded-sauce",
   "metadata": {},
   "outputs": [],
   "source": []
  }
 ],
 "metadata": {
  "kernelspec": {
   "display_name": "Python 3",
   "language": "python",
   "name": "python3"
  },
  "language_info": {
   "codemirror_mode": {
    "name": "ipython",
    "version": 3
   },
   "file_extension": ".py",
   "mimetype": "text/x-python",
   "name": "python",
   "nbconvert_exporter": "python",
   "pygments_lexer": "ipython3",
   "version": "3.8.8"
  }
 },
 "nbformat": 4,
 "nbformat_minor": 5
}
