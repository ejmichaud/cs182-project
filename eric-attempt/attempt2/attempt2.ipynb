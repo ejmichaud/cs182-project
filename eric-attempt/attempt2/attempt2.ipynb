{
 "cells": [
  {
   "cell_type": "code",
   "execution_count": 2,
   "id": "innovative-citation",
   "metadata": {},
   "outputs": [],
   "source": [
    "import json\n",
    "import pathlib\n",
    "from itertools import islice\n",
    "from tqdm.auto import tqdm\n",
    "\n",
    "import numpy as np\n",
    "import matplotlib.pyplot as plt\n",
    "\n",
    "import torch\n",
    "import torch.nn as nn\n",
    "from transformers import BertTokenizer, BertForSequenceClassification\n",
    "from transformers import DistilBertTokenizer, DistilBertForSequenceClassification"
   ]
  },
  {
   "cell_type": "code",
   "execution_count": 3,
   "id": "direct-delhi",
   "metadata": {},
   "outputs": [],
   "source": [
    "device = 'cuda:0' if torch.cuda.is_available() else 'cpu'\n",
    "# device = 'cpu'"
   ]
  },
  {
   "cell_type": "code",
   "execution_count": 4,
   "id": "bright-warren",
   "metadata": {},
   "outputs": [
    {
     "data": {
      "text/plain": [
       "'cuda:0'"
      ]
     },
     "execution_count": 4,
     "metadata": {},
     "output_type": "execute_result"
    }
   ],
   "source": [
    "device"
   ]
  },
  {
   "cell_type": "markdown",
   "id": "numerous-dylan",
   "metadata": {},
   "source": [
    "## Create and load dataset\n",
    "\n",
    "**Note that there are 533581 examples in our dataset**"
   ]
  },
  {
   "cell_type": "code",
   "execution_count": 5,
   "id": "fresh-carter",
   "metadata": {},
   "outputs": [],
   "source": [
    "class YelpDataset(torch.utils.data.Dataset):\n",
    "    \"\"\"Yelp reviews dataset (533581 reviews)\"\"\"\n",
    "\n",
    "    def __init__(self, json_file='../yelp_review_training_dataset.jsonl', transform=None):\n",
    "        \"\"\"\n",
    "        Args:\n",
    "            json_file (string): Path to the json file for dataset\n",
    "            transform (callable, optional): Optional transform to be applied\n",
    "                on a sample.\n",
    "        \"\"\"\n",
    "        with open(json_file, 'r') as f:\n",
    "            self.data = [json.loads(line) for line in f]\n",
    "        self.transform = transform\n",
    "\n",
    "    def __len__(self):\n",
    "        return len(self.data)\n",
    "\n",
    "    def __getitem__(self, idx):\n",
    "#         if torch.is_tensor(idx):\n",
    "#             idx = idx.tolist()\n",
    "        text, review = self.data[idx]['text'], int(self.data[idx]['stars'])\n",
    "        sample = (text, review - 1) # subtract one so that one-hot label is in [0, 4]\n",
    "        if self.transform:\n",
    "            sample = self.transform(sample)\n",
    "        return sample"
   ]
  },
  {
   "cell_type": "code",
   "execution_count": 6,
   "id": "sufficient-princess",
   "metadata": {},
   "outputs": [],
   "source": [
    "data = YelpDataset()"
   ]
  },
  {
   "cell_type": "code",
   "execution_count": 7,
   "id": "saved-engagement",
   "metadata": {},
   "outputs": [],
   "source": [
    "train = torch.utils.data.Subset(data, range(400000))\n",
    "val = torch.utils.data.Subset(data, range(400000, 480000))\n",
    "test = torch.utils.data.Subset(data, range(480000, len(data)))"
   ]
  },
  {
   "cell_type": "code",
   "execution_count": 8,
   "id": "italian-wealth",
   "metadata": {},
   "outputs": [],
   "source": [
    "train_loader = torch.utils.data.DataLoader(train, batch_size=10,\n",
    "                        shuffle=True)\n",
    "val_loader = torch.utils.data.DataLoader(val, batch_size=10,\n",
    "                        shuffle=True)\n",
    "test_loader = torch.utils.data.DataLoader(test, batch_size=10,\n",
    "                        shuffle=True)"
   ]
  },
  {
   "cell_type": "markdown",
   "id": "fixed-shoot",
   "metadata": {},
   "source": [
    "# exp01 -  First do linear classifier on BERT hidden state"
   ]
  },
  {
   "cell_type": "markdown",
   "id": "unlike-oakland",
   "metadata": {},
   "source": [
    "## Load up tokenizer and model"
   ]
  },
  {
   "cell_type": "code",
   "execution_count": 8,
   "id": "packed-publisher",
   "metadata": {},
   "outputs": [
    {
     "name": "stderr",
     "output_type": "stream",
     "text": [
      "Some weights of the model checkpoint at distilbert-base-uncased were not used when initializing DistilBertForSequenceClassification: ['vocab_transform.weight', 'vocab_transform.bias', 'vocab_layer_norm.weight', 'vocab_layer_norm.bias', 'vocab_projector.weight', 'vocab_projector.bias']\n",
      "- This IS expected if you are initializing DistilBertForSequenceClassification from the checkpoint of a model trained on another task or with another architecture (e.g. initializing a BertForSequenceClassification model from a BertForPreTraining model).\n",
      "- This IS NOT expected if you are initializing DistilBertForSequenceClassification from the checkpoint of a model that you expect to be exactly identical (initializing a BertForSequenceClassification model from a BertForSequenceClassification model).\n",
      "Some weights of DistilBertForSequenceClassification were not initialized from the model checkpoint at distilbert-base-uncased and are newly initialized: ['pre_classifier.weight', 'pre_classifier.bias', 'classifier.weight', 'classifier.bias']\n",
      "You should probably TRAIN this model on a down-stream task to be able to use it for predictions and inference.\n"
     ]
    }
   ],
   "source": [
    "tokenizer = DistilBertTokenizer.from_pretrained('distilbert-base-uncased')\n",
    "model = DistilBertForSequenceClassification.from_pretrained('distilbert-base-uncased').to(device)\n",
    "model.classifier = nn.Sequential(\n",
    "    nn.Linear(in_features=768, out_features=5, bias=True),\n",
    ").to(device)\n"
   ]
  },
  {
   "cell_type": "markdown",
   "id": "described-violation",
   "metadata": {},
   "source": [
    "## Train the classifier"
   ]
  },
  {
   "cell_type": "code",
   "execution_count": 9,
   "id": "entertaining-moore",
   "metadata": {},
   "outputs": [],
   "source": [
    "optimizer = torch.optim.Adam(model.classifier.parameters())\n",
    "loss_fn = nn.CrossEntropyLoss(reduction='sum')"
   ]
  },
  {
   "cell_type": "code",
   "execution_count": 10,
   "id": "critical-sarah",
   "metadata": {},
   "outputs": [],
   "source": [
    "def expected_rating(logits):\n",
    "    \"\"\"Computes expected rating from logits \\in [1, 5]\"\"\"\n",
    "    probs = torch.softmax(logits, dim=1)\n",
    "    return torch.matmul(probs, torch.tensor([1., 2., 3., 4., 5.]).to(device))"
   ]
  },
  {
   "cell_type": "markdown",
   "id": "directed-african",
   "metadata": {},
   "source": [
    "### Let's start with 1 epoch"
   ]
  },
  {
   "cell_type": "code",
   "execution_count": 11,
   "id": "processed-property",
   "metadata": {},
   "outputs": [],
   "source": [
    "num_batches = []\n",
    "val_accuracies = []\n",
    "val_losses = []\n",
    "val_errors = []"
   ]
  },
  {
   "cell_type": "code",
   "execution_count": 12,
   "id": "greenhouse-friend",
   "metadata": {},
   "outputs": [
    {
     "data": {
      "application/vnd.jupyter.widget-view+json": {
       "model_id": "3ec863217ba64e4fad6e6557f6fffdae",
       "version_major": 2,
       "version_minor": 0
      },
      "text/plain": [
       "  0%|          | 0/7000 [00:00<?, ?it/s]"
      ]
     },
     "metadata": {},
     "output_type": "display_data"
    },
    {
     "name": "stdout",
     "output_type": "stream",
     "text": [
      "Val Acc: 14.87%\n",
      "Val Err: 1.65\n",
      "Val Acc: 57.53%\n",
      "Val Err: 1.28\n",
      "Val Acc: 66.60%\n",
      "Val Err: 1.08\n",
      "Val Acc: 63.73%\n",
      "Val Err: 1.01\n",
      "Val Acc: 66.00%\n",
      "Val Err: 0.88\n",
      "Val Acc: 70.40%\n",
      "Val Err: 0.85\n",
      "Val Acc: 69.47%\n",
      "Val Err: 0.84\n",
      "Val Acc: 69.93%\n",
      "Val Err: 0.79\n",
      "Val Acc: 68.53%\n",
      "Val Err: 0.74\n",
      "Val Acc: 72.60%\n",
      "Val Err: 0.71\n",
      "Val Acc: 69.93%\n",
      "Val Err: 0.70\n",
      "Val Acc: 70.00%\n",
      "Val Err: 0.73\n",
      "Val Acc: 70.80%\n",
      "Val Err: 0.68\n",
      "Val Acc: 69.00%\n",
      "Val Err: 0.68\n",
      "Val Acc: 71.20%\n",
      "Val Err: 0.68\n",
      "Val Acc: 69.47%\n",
      "Val Err: 0.69\n",
      "Val Acc: 67.53%\n",
      "Val Err: 0.67\n",
      "Val Acc: 70.07%\n",
      "Val Err: 0.65\n",
      "Val Acc: 70.40%\n",
      "Val Err: 0.62\n",
      "Val Acc: 71.80%\n",
      "Val Err: 0.62\n",
      "Val Acc: 71.27%\n",
      "Val Err: 0.65\n",
      "Val Acc: 70.27%\n",
      "Val Err: 0.67\n",
      "Val Acc: 72.27%\n",
      "Val Err: 0.64\n",
      "Val Acc: 71.87%\n",
      "Val Err: 0.61\n",
      "Val Acc: 71.33%\n",
      "Val Err: 0.61\n",
      "Val Acc: 72.73%\n",
      "Val Err: 0.63\n",
      "Val Acc: 73.40%\n",
      "Val Err: 0.56\n",
      "Val Acc: 73.67%\n",
      "Val Err: 0.58\n",
      "Val Acc: 69.93%\n",
      "Val Err: 0.61\n",
      "Val Acc: 74.20%\n",
      "Val Err: 0.61\n",
      "Val Acc: 71.53%\n",
      "Val Err: 0.57\n"
     ]
    }
   ],
   "source": [
    "batches = 7000\n",
    "\n",
    "model.train()\n",
    "for i, (reviews, classes) in enumerate(tqdm(islice(train_loader, batches), total=batches)): # use the term 'class' instead of 'rating' to denote that class = rating - 1\n",
    "    \n",
    "    if i % (batches // 30) == 0: # do 30 val acc computations\n",
    "        model.eval()\n",
    "        val_loss = 0\n",
    "        val_accuracy = 0\n",
    "        val_error = 0\n",
    "        outof = 0\n",
    "        with torch.no_grad():\n",
    "            for reviews, classes in islice(val_loader, 150): # 150 * batch_size examples to evaluate on\n",
    "                inputs = tokenizer(reviews, return_tensors=\"pt\", padding=True, truncation=True)\n",
    "                logits = model(**inputs.to(device)).logits\n",
    "                _, pred = torch.max(logits, 1)\n",
    "                val_accuracy += (pred == classes.to(device)).sum().item()\n",
    "                val_loss += loss_fn(logits, classes.to(device))\n",
    "                val_error += ((classes.to(device) + 1) - expected_rating(logits)).abs().sum()\n",
    "                outof += len(classes)\n",
    "        print(\"Val Acc: {:.2f}%\".format(val_accuracy / outof * 100))\n",
    "        print(\"Val Err: {:.2f}\".format(val_error / outof))\n",
    "        num_batches.append(i)\n",
    "        val_accuracies.append(val_accuracy / outof)\n",
    "        val_losses.append(val_loss / outof)\n",
    "        val_errors.append(val_error / outof)\n",
    "        model.train()\n",
    "    \n",
    "    optimizer.zero_grad()\n",
    "    inputs = tokenizer(reviews, return_tensors=\"pt\", padding=True, truncation=True)\n",
    "    logits = model(**inputs.to(device)).logits\n",
    "    loss = loss_fn(logits, classes.to(device))\n",
    "    loss.backward()\n",
    "    optimizer.step()\n",
    "        "
   ]
  },
  {
   "cell_type": "code",
   "execution_count": 19,
   "id": "latest-filter",
   "metadata": {},
   "outputs": [],
   "source": [
    "p = pathlib.Path('exp1')\n",
    "p.mkdir()"
   ]
  },
  {
   "cell_type": "code",
   "execution_count": 20,
   "id": "acute-syria",
   "metadata": {},
   "outputs": [],
   "source": [
    "torch.save({\n",
    "    'batches': num_batches,\n",
    "    'accuracies': val_accuracies,\n",
    "    'losses': val_losses,\n",
    "    'errors': val_errors\n",
    "}, p/\"training_data.pt\")"
   ]
  },
  {
   "cell_type": "code",
   "execution_count": 21,
   "id": "completed-deputy",
   "metadata": {},
   "outputs": [
    {
     "data": {
      "image/png": "[encoded data removed]",
      "text/plain": [
       "<Figure size 432x288 with 1 Axes>"
      ]
     },
     "metadata": {
      "needs_background": "light"
     },
     "output_type": "display_data"
    }
   ],
   "source": [
    "plt.plot(num_batches, val_accuracies)\n",
    "plt.ylabel(\"Validation Accuracy\")\n",
    "plt.xlabel(\"Batches\")\n",
    "plt.title(\"DistilBERT Linear Head\")\n",
    "plt.savefig(p/\"accuracy_plot.pdf\")"
   ]
  },
  {
   "cell_type": "code",
   "execution_count": 22,
   "id": "directed-purse",
   "metadata": {},
   "outputs": [
    {
     "data": {
      "image/png": "[encoded data removed]",
      "text/plain": [
       "<Figure size 432x288 with 1 Axes>"
      ]
     },
     "metadata": {
      "needs_background": "light"
     },
     "output_type": "display_data"
    }
   ],
   "source": [
    "plt.plot(num_batches, val_errors)\n",
    "plt.ylabel(\"Mean Validation Rating Error\")\n",
    "plt.xlabel(\"Batches\")\n",
    "plt.title(\"DistilBERT Linear Head\")\n",
    "plt.savefig(p/\"error_plot.pdf\")"
   ]
  },
  {
   "cell_type": "code",
   "execution_count": 23,
   "id": "objective-aircraft",
   "metadata": {},
   "outputs": [],
   "source": [
    "torch.save(model.classifier.state_dict(), p/\"classifier.pt\")"
   ]
  },
  {
   "cell_type": "markdown",
   "id": "oriental-click",
   "metadata": {},
   "source": [
    "# exp2 -  MLP classifier on BERT hidden state"
   ]
  },
  {
   "cell_type": "markdown",
   "id": "suspended-coral",
   "metadata": {},
   "source": [
    "## Load up tokenizer and model"
   ]
  },
  {
   "cell_type": "code",
   "execution_count": 24,
   "id": "packed-publisher",
   "metadata": {},
   "outputs": [
    {
     "name": "stderr",
     "output_type": "stream",
     "text": [
      "Some weights of the model checkpoint at distilbert-base-uncased were not used when initializing DistilBertForSequenceClassification: ['vocab_transform.weight', 'vocab_transform.bias', 'vocab_layer_norm.weight', 'vocab_layer_norm.bias', 'vocab_projector.weight', 'vocab_projector.bias']\n",
      "- This IS expected if you are initializing DistilBertForSequenceClassification from the checkpoint of a model trained on another task or with another architecture (e.g. initializing a BertForSequenceClassification model from a BertForPreTraining model).\n",
      "- This IS NOT expected if you are initializing DistilBertForSequenceClassification from the checkpoint of a model that you expect to be exactly identical (initializing a BertForSequenceClassification model from a BertForSequenceClassification model).\n",
      "Some weights of DistilBertForSequenceClassification were not initialized from the model checkpoint at distilbert-base-uncased and are newly initialized: ['pre_classifier.weight', 'pre_classifier.bias', 'classifier.weight', 'classifier.bias']\n",
      "You should probably TRAIN this model on a down-stream task to be able to use it for predictions and inference.\n"
     ]
    }
   ],
   "source": [
    "tokenizer = DistilBertTokenizer.from_pretrained('distilbert-base-uncased')\n",
    "model = DistilBertForSequenceClassification.from_pretrained('distilbert-base-uncased').to(device)\n",
    "model.classifier = nn.Sequential(\n",
    "    nn.Linear(in_features=768, out_features=800, bias=True),\n",
    "    nn.ReLU(),\n",
    "    nn.Linear(in_features=800, out_features=5, bias=True)\n",
    ").to(device)\n"
   ]
  },
  {
   "cell_type": "markdown",
   "id": "described-violation",
   "metadata": {},
   "source": [
    "## Train the classifier"
   ]
  },
  {
   "cell_type": "code",
   "execution_count": 25,
   "id": "entertaining-moore",
   "metadata": {},
   "outputs": [],
   "source": [
    "optimizer = torch.optim.Adam(model.classifier.parameters())\n",
    "loss_fn = nn.CrossEntropyLoss(reduction='sum')"
   ]
  },
  {
   "cell_type": "code",
   "execution_count": 26,
   "id": "critical-sarah",
   "metadata": {},
   "outputs": [],
   "source": [
    "def expected_rating(logits):\n",
    "    \"\"\"Computes expected rating from logits \\in [1, 5]\"\"\"\n",
    "    probs = torch.softmax(logits, dim=1)\n",
    "    return torch.matmul(probs, torch.tensor([1., 2., 3., 4., 5.]).to(device))"
   ]
  },
  {
   "cell_type": "markdown",
   "id": "directed-african",
   "metadata": {},
   "source": [
    "### Let's start with 1 epoch"
   ]
  },
  {
   "cell_type": "code",
   "execution_count": 27,
   "id": "processed-property",
   "metadata": {},
   "outputs": [],
   "source": [
    "num_batches = []\n",
    "val_accuracies = []\n",
    "val_losses = []\n",
    "val_errors = []"
   ]
  },
  {
   "cell_type": "code",
   "execution_count": 28,
   "id": "greenhouse-friend",
   "metadata": {},
   "outputs": [
    {
     "data": {
      "application/vnd.jupyter.widget-view+json": {
       "model_id": "d4b781feba3c481d995fef8510f69658",
       "version_major": 2,
       "version_minor": 0
      },
      "text/plain": [
       "  0%|          | 0/7000 [00:00<?, ?it/s]"
      ]
     },
     "metadata": {},
     "output_type": "display_data"
    },
    {
     "name": "stdout",
     "output_type": "stream",
     "text": [
      "Val Acc: 7.67%\n",
      "Val Err: 1.68\n",
      "Val Acc: 69.00%\n",
      "Val Err: 0.69\n",
      "Val Acc: 71.40%\n",
      "Val Err: 0.57\n",
      "Val Acc: 69.13%\n",
      "Val Err: 0.51\n",
      "Val Acc: 66.40%\n",
      "Val Err: 0.60\n",
      "Val Acc: 71.80%\n",
      "Val Err: 0.54\n",
      "Val Acc: 72.27%\n",
      "Val Err: 0.56\n",
      "Val Acc: 70.27%\n",
      "Val Err: 0.49\n",
      "Val Acc: 70.07%\n",
      "Val Err: 0.58\n",
      "Val Acc: 70.20%\n",
      "Val Err: 0.59\n",
      "Val Acc: 70.73%\n",
      "Val Err: 0.50\n",
      "Val Acc: 72.40%\n",
      "Val Err: 0.50\n",
      "Val Acc: 70.93%\n",
      "Val Err: 0.53\n",
      "Val Acc: 67.33%\n",
      "Val Err: 0.63\n",
      "Val Acc: 72.67%\n",
      "Val Err: 0.56\n",
      "Val Acc: 70.27%\n",
      "Val Err: 0.51\n",
      "Val Acc: 71.60%\n",
      "Val Err: 0.50\n",
      "Val Acc: 69.93%\n",
      "Val Err: 0.52\n",
      "Val Acc: 71.47%\n",
      "Val Err: 0.48\n",
      "Val Acc: 71.27%\n",
      "Val Err: 0.50\n",
      "Val Acc: 72.73%\n",
      "Val Err: 0.52\n",
      "Val Acc: 72.13%\n",
      "Val Err: 0.54\n",
      "Val Acc: 74.47%\n",
      "Val Err: 0.52\n",
      "Val Acc: 72.80%\n",
      "Val Err: 0.53\n",
      "Val Acc: 71.00%\n",
      "Val Err: 0.58\n",
      "Val Acc: 72.47%\n",
      "Val Err: 0.57\n",
      "Val Acc: 70.80%\n",
      "Val Err: 0.56\n",
      "Val Acc: 71.47%\n",
      "Val Err: 0.48\n",
      "Val Acc: 74.13%\n",
      "Val Err: 0.52\n",
      "Val Acc: 71.07%\n",
      "Val Err: 0.55\n",
      "Val Acc: 72.40%\n",
      "Val Err: 0.53\n"
     ]
    }
   ],
   "source": [
    "batches = 7000\n",
    "\n",
    "model.train()\n",
    "for i, (reviews, classes) in enumerate(tqdm(islice(train_loader, batches), total=batches)): # use the term 'class' instead of 'rating' to denote that class = rating - 1\n",
    "    \n",
    "    if i % (batches // 30) == 0: # do 30 val acc computations\n",
    "        model.eval()\n",
    "        val_loss = 0\n",
    "        val_accuracy = 0\n",
    "        val_error = 0\n",
    "        outof = 0\n",
    "        with torch.no_grad():\n",
    "            for reviews, classes in islice(val_loader, 150): # 150 * batch_size examples to evaluate on\n",
    "                inputs = tokenizer(reviews, return_tensors=\"pt\", padding=True, truncation=True)\n",
    "                logits = model(**inputs.to(device)).logits\n",
    "                _, pred = torch.max(logits, 1)\n",
    "                val_accuracy += (pred == classes.to(device)).sum().item()\n",
    "                val_loss += loss_fn(logits, classes.to(device))\n",
    "                val_error += ((classes.to(device) + 1) - expected_rating(logits)).abs().sum()\n",
    "                outof += len(classes)\n",
    "        print(\"Val Acc: {:.2f}%\".format(val_accuracy / outof * 100))\n",
    "        print(\"Val Err: {:.2f}\".format(val_error / outof))\n",
    "        num_batches.append(i)\n",
    "        val_accuracies.append(val_accuracy / outof)\n",
    "        val_losses.append(val_loss / outof)\n",
    "        val_errors.append(val_error / outof)\n",
    "        model.train()\n",
    "    \n",
    "    optimizer.zero_grad()\n",
    "    inputs = tokenizer(reviews, return_tensors=\"pt\", padding=True, truncation=True)\n",
    "    logits = model(**inputs.to(device)).logits\n",
    "    loss = loss_fn(logits, classes.to(device))\n",
    "    loss.backward()\n",
    "    optimizer.step()\n",
    "        "
   ]
  },
  {
   "cell_type": "code",
   "execution_count": 29,
   "id": "extended-payday",
   "metadata": {},
   "outputs": [],
   "source": [
    "p = pathlib.Path('exp2')\n",
    "p.mkdir()"
   ]
  },
  {
   "cell_type": "code",
   "execution_count": 30,
   "id": "signed-adventure",
   "metadata": {},
   "outputs": [],
   "source": [
    "torch.save({\n",
    "    'batches': num_batches,\n",
    "    'accuracies': val_accuracies,\n",
    "    'losses': val_losses,\n",
    "    'errors': val_errors\n",
    "}, p/\"training_data.pt\")"
   ]
  },
  {
   "cell_type": "code",
   "execution_count": 31,
   "id": "completed-deputy",
   "metadata": {},
   "outputs": [
    {
     "data": {
      "image/png": "[encoded data removed]",
      "text/plain": [
       "<Figure size 432x288 with 1 Axes>"
      ]
     },
     "metadata": {
      "needs_background": "light"
     },
     "output_type": "display_data"
    }
   ],
   "source": [
    "plt.plot(num_batches, val_accuracies)\n",
    "plt.ylabel(\"Validation Accuracy\")\n",
    "plt.xlabel(\"Batches\")\n",
    "plt.title(\"DistilBERT MLP Head\")\n",
    "plt.savefig(p/\"accuracy_plot.pdf\")"
   ]
  },
  {
   "cell_type": "code",
   "execution_count": 32,
   "id": "directed-purse",
   "metadata": {},
   "outputs": [
    {
     "data": {
      "image/png": "[encoded data removed]",
      "text/plain": [
       "<Figure size 432x288 with 1 Axes>"
      ]
     },
     "metadata": {
      "needs_background": "light"
     },
     "output_type": "display_data"
    }
   ],
   "source": [
    "plt.plot(num_batches, val_errors)\n",
    "plt.ylabel(\"Mean Validation Rating Error\")\n",
    "plt.xlabel(\"Batches\")\n",
    "plt.title(\"DistilBERT MLP Head\")\n",
    "plt.savefig(p/\"error_plot.pdf\")"
   ]
  },
  {
   "cell_type": "code",
   "execution_count": 33,
   "id": "placed-second",
   "metadata": {},
   "outputs": [],
   "source": [
    "torch.save(model.classifier.state_dict(), p/\"classifier.pt\")"
   ]
  },
  {
   "cell_type": "markdown",
   "id": "relative-meter",
   "metadata": {},
   "source": [
    "# exp3 -  MLP w/ Dropout classifier on BERT hidden state"
   ]
  },
  {
   "cell_type": "markdown",
   "id": "unlike-oakland",
   "metadata": {},
   "source": [
    "## Load up tokenizer and model"
   ]
  },
  {
   "cell_type": "code",
   "execution_count": 36,
   "id": "packed-publisher",
   "metadata": {},
   "outputs": [
    {
     "name": "stderr",
     "output_type": "stream",
     "text": [
      "Some weights of the model checkpoint at distilbert-base-uncased were not used when initializing DistilBertForSequenceClassification: ['vocab_transform.weight', 'vocab_transform.bias', 'vocab_layer_norm.weight', 'vocab_layer_norm.bias', 'vocab_projector.weight', 'vocab_projector.bias']\n",
      "- This IS expected if you are initializing DistilBertForSequenceClassification from the checkpoint of a model trained on another task or with another architecture (e.g. initializing a BertForSequenceClassification model from a BertForPreTraining model).\n",
      "- This IS NOT expected if you are initializing DistilBertForSequenceClassification from the checkpoint of a model that you expect to be exactly identical (initializing a BertForSequenceClassification model from a BertForSequenceClassification model).\n",
      "Some weights of DistilBertForSequenceClassification were not initialized from the model checkpoint at distilbert-base-uncased and are newly initialized: ['pre_classifier.weight', 'pre_classifier.bias', 'classifier.weight', 'classifier.bias']\n",
      "You should probably TRAIN this model on a down-stream task to be able to use it for predictions and inference.\n"
     ]
    }
   ],
   "source": [
    "tokenizer = DistilBertTokenizer.from_pretrained('distilbert-base-uncased')\n",
    "model = DistilBertForSequenceClassification.from_pretrained('distilbert-base-uncased').to(device)\n",
    "model.classifier = nn.Sequential(\n",
    "    nn.Dropout(),\n",
    "    nn.Linear(in_features=768, out_features=800, bias=True),\n",
    "    nn.ReLU(),\n",
    "    nn.Dropout(),\n",
    "    nn.Linear(in_features=800, out_features=5, bias=True)\n",
    ").to(device)\n"
   ]
  },
  {
   "cell_type": "markdown",
   "id": "described-violation",
   "metadata": {},
   "source": [
    "## Train the classifier"
   ]
  },
  {
   "cell_type": "code",
   "execution_count": 37,
   "id": "entertaining-moore",
   "metadata": {},
   "outputs": [],
   "source": [
    "optimizer = torch.optim.Adam(model.classifier.parameters())\n",
    "loss_fn = nn.CrossEntropyLoss(reduction='sum')"
   ]
  },
  {
   "cell_type": "code",
   "execution_count": 38,
   "id": "critical-sarah",
   "metadata": {},
   "outputs": [],
   "source": [
    "def expected_rating(logits):\n",
    "    \"\"\"Computes expected rating from logits \\in [1, 5]\"\"\"\n",
    "    probs = torch.softmax(logits, dim=1)\n",
    "    return torch.matmul(probs, torch.tensor([1., 2., 3., 4., 5.]).to(device))"
   ]
  },
  {
   "cell_type": "markdown",
   "id": "directed-african",
   "metadata": {},
   "source": [
    "### Let's start with 1 epoch"
   ]
  },
  {
   "cell_type": "code",
   "execution_count": 39,
   "id": "processed-property",
   "metadata": {},
   "outputs": [],
   "source": [
    "num_batches = []\n",
    "val_accuracies = []\n",
    "val_losses = []\n",
    "val_errors = []"
   ]
  },
  {
   "cell_type": "code",
   "execution_count": 40,
   "id": "greenhouse-friend",
   "metadata": {},
   "outputs": [
    {
     "data": {
      "application/vnd.jupyter.widget-view+json": {
       "model_id": "0e81d4e7f78044f9afc3b6aa345b3d64",
       "version_major": 2,
       "version_minor": 0
      },
      "text/plain": [
       "  0%|          | 0/10000 [00:00<?, ?it/s]"
      ]
     },
     "metadata": {},
     "output_type": "display_data"
    },
    {
     "name": "stdout",
     "output_type": "stream",
     "text": [
      "Val Acc: 11.00%\n",
      "Val Err: 1.67\n",
      "Val Acc: 65.47%\n",
      "Val Err: 0.82\n",
      "Val Acc: 68.20%\n",
      "Val Err: 0.65\n",
      "Val Acc: 73.00%\n",
      "Val Err: 0.72\n",
      "Val Acc: 70.87%\n",
      "Val Err: 0.78\n",
      "Val Acc: 69.67%\n",
      "Val Err: 0.71\n",
      "Val Acc: 70.13%\n",
      "Val Err: 0.68\n",
      "Val Acc: 66.87%\n",
      "Val Err: 0.68\n",
      "Val Acc: 72.60%\n",
      "Val Err: 0.65\n",
      "Val Acc: 71.27%\n",
      "Val Err: 0.67\n",
      "Val Acc: 70.80%\n",
      "Val Err: 0.70\n",
      "Val Acc: 66.93%\n",
      "Val Err: 0.70\n",
      "Val Acc: 69.53%\n",
      "Val Err: 0.63\n",
      "Val Acc: 71.13%\n",
      "Val Err: 0.66\n",
      "Val Acc: 70.00%\n",
      "Val Err: 0.60\n",
      "Val Acc: 71.07%\n",
      "Val Err: 0.67\n",
      "Val Acc: 69.60%\n",
      "Val Err: 0.65\n",
      "Val Acc: 70.87%\n",
      "Val Err: 0.75\n",
      "Val Acc: 70.87%\n",
      "Val Err: 0.71\n",
      "Val Acc: 70.80%\n",
      "Val Err: 0.69\n",
      "Val Acc: 70.73%\n",
      "Val Err: 0.63\n",
      "Val Acc: 72.80%\n",
      "Val Err: 0.69\n",
      "Val Acc: 71.00%\n",
      "Val Err: 0.69\n",
      "Val Acc: 70.00%\n",
      "Val Err: 0.70\n",
      "Val Acc: 71.27%\n",
      "Val Err: 0.70\n",
      "Val Acc: 71.73%\n",
      "Val Err: 0.69\n",
      "Val Acc: 69.13%\n",
      "Val Err: 0.74\n",
      "Val Acc: 69.87%\n",
      "Val Err: 0.64\n",
      "Val Acc: 68.53%\n",
      "Val Err: 0.72\n",
      "Val Acc: 70.67%\n",
      "Val Err: 0.63\n",
      "Val Acc: 70.73%\n",
      "Val Err: 0.67\n"
     ]
    }
   ],
   "source": [
    "batches = 10000\n",
    "\n",
    "model.train()\n",
    "for i, (reviews, classes) in enumerate(tqdm(islice(train_loader, batches), total=batches)): # use the term 'class' instead of 'rating' to denote that class = rating - 1\n",
    "    \n",
    "    if i % (batches // 30) == 0: # do 30 val acc computations\n",
    "        model.eval()\n",
    "        val_loss = 0\n",
    "        val_accuracy = 0\n",
    "        val_error = 0\n",
    "        outof = 0\n",
    "        with torch.no_grad():\n",
    "            for reviews, classes in islice(val_loader, 150): # 150 * batch_size examples to evaluate on\n",
    "                inputs = tokenizer(reviews, return_tensors=\"pt\", padding=True, truncation=True)\n",
    "                logits = model(**inputs.to(device)).logits\n",
    "                _, pred = torch.max(logits, 1)\n",
    "                val_accuracy += (pred == classes.to(device)).sum().item()\n",
    "                val_loss += loss_fn(logits, classes.to(device))\n",
    "                val_error += ((classes.to(device) + 1) - expected_rating(logits)).abs().sum()\n",
    "                outof += len(classes)\n",
    "        print(\"Val Acc: {:.2f}%\".format(val_accuracy / outof * 100))\n",
    "        print(\"Val Err: {:.2f}\".format(val_error / outof))\n",
    "        num_batches.append(i)\n",
    "        val_accuracies.append(val_accuracy / outof)\n",
    "        val_losses.append(val_loss / outof)\n",
    "        val_errors.append(val_error / outof)\n",
    "        model.train()\n",
    "    \n",
    "    optimizer.zero_grad()\n",
    "    inputs = tokenizer(reviews, return_tensors=\"pt\", padding=True, truncation=True)\n",
    "    logits = model(**inputs.to(device)).logits\n",
    "    loss = loss_fn(logits, classes.to(device))\n",
    "    loss.backward()\n",
    "    optimizer.step()\n",
    "        "
   ]
  },
  {
   "cell_type": "code",
   "execution_count": 41,
   "id": "dietary-shanghai",
   "metadata": {},
   "outputs": [],
   "source": [
    "p = pathlib.Path('exp3')\n",
    "p.mkdir()"
   ]
  },
  {
   "cell_type": "code",
   "execution_count": 42,
   "id": "alpha-portland",
   "metadata": {},
   "outputs": [],
   "source": [
    "torch.save({\n",
    "    'batches': num_batches,\n",
    "    'accuracies': val_accuracies,\n",
    "    'losses': val_losses,\n",
    "    'errors': val_errors\n",
    "}, p/\"training_data.pt\")"
   ]
  },
  {
   "cell_type": "code",
   "execution_count": 43,
   "id": "completed-deputy",
   "metadata": {},
   "outputs": [
    {
     "data": {
      "image/png": "[encoded data removed]",
      "text/plain": [
       "<Figure size 432x288 with 1 Axes>"
      ]
     },
     "metadata": {
      "needs_background": "light"
     },
     "output_type": "display_data"
    }
   ],
   "source": [
    "plt.plot(num_batches, val_accuracies)\n",
    "plt.ylabel(\"Validation Accuracy\")\n",
    "plt.xlabel(\"Batches\")\n",
    "plt.title(\"DistilBERT MLP w/ Dropout Head\")\n",
    "plt.savefig(p/\"accuracy_plot.pdf\")"
   ]
  },
  {
   "cell_type": "code",
   "execution_count": 44,
   "id": "directed-purse",
   "metadata": {},
   "outputs": [
    {
     "data": {
      "image/png": "[encoded data removed]",
      "text/plain": [
       "<Figure size 432x288 with 1 Axes>"
      ]
     },
     "metadata": {
      "needs_background": "light"
     },
     "output_type": "display_data"
    }
   ],
   "source": [
    "plt.plot(num_batches, val_errors)\n",
    "plt.ylabel(\"Mean Validation Rating Error\")\n",
    "plt.xlabel(\"Batches\")\n",
    "plt.title(\"DistilBERT MLP w/ Dropout Head\")\n",
    "plt.savefig(p/\"error_plot.pdf\")"
   ]
  },
  {
   "cell_type": "code",
   "execution_count": 45,
   "id": "sorted-gross",
   "metadata": {},
   "outputs": [],
   "source": [
    "torch.save(model.classifier.state_dict(), p/\"classifier.pt\")"
   ]
  },
  {
   "cell_type": "markdown",
   "id": "progressive-particular",
   "metadata": {},
   "source": [
    "# exp4 -  linear classifier on BERT hidden state w/ distance multiple to loss"
   ]
  },
  {
   "cell_type": "code",
   "execution_count": 46,
   "id": "packed-publisher",
   "metadata": {},
   "outputs": [
    {
     "name": "stderr",
     "output_type": "stream",
     "text": [
      "Some weights of the model checkpoint at distilbert-base-uncased were not used when initializing DistilBertForSequenceClassification: ['vocab_transform.weight', 'vocab_transform.bias', 'vocab_layer_norm.weight', 'vocab_layer_norm.bias', 'vocab_projector.weight', 'vocab_projector.bias']\n",
      "- This IS expected if you are initializing DistilBertForSequenceClassification from the checkpoint of a model trained on another task or with another architecture (e.g. initializing a BertForSequenceClassification model from a BertForPreTraining model).\n",
      "- This IS NOT expected if you are initializing DistilBertForSequenceClassification from the checkpoint of a model that you expect to be exactly identical (initializing a BertForSequenceClassification model from a BertForSequenceClassification model).\n",
      "Some weights of DistilBertForSequenceClassification were not initialized from the model checkpoint at distilbert-base-uncased and are newly initialized: ['pre_classifier.weight', 'pre_classifier.bias', 'classifier.weight', 'classifier.bias']\n",
      "You should probably TRAIN this model on a down-stream task to be able to use it for predictions and inference.\n"
     ]
    }
   ],
   "source": [
    "tokenizer = DistilBertTokenizer.from_pretrained('distilbert-base-uncased')\n",
    "model = DistilBertForSequenceClassification.from_pretrained('distilbert-base-uncased').to(device)\n",
    "model.classifier = nn.Sequential(\n",
    "    nn.Linear(in_features=768, out_features=5, bias=True),\n",
    ").to(device)\n"
   ]
  },
  {
   "cell_type": "markdown",
   "id": "described-violation",
   "metadata": {},
   "source": [
    "## Train the classifier"
   ]
  },
  {
   "cell_type": "code",
   "execution_count": 47,
   "id": "entertaining-moore",
   "metadata": {},
   "outputs": [],
   "source": [
    "optimizer = torch.optim.Adam(model.classifier.parameters())\n",
    "loss_fn = nn.CrossEntropyLoss(reduction='sum')"
   ]
  },
  {
   "cell_type": "code",
   "execution_count": 48,
   "id": "critical-sarah",
   "metadata": {},
   "outputs": [],
   "source": [
    "def expected_rating(logits):\n",
    "    \"\"\"Computes expected rating from logits \\in [1, 5]\"\"\"\n",
    "    probs = torch.softmax(logits, dim=1)\n",
    "    return torch.matmul(probs, torch.tensor([1., 2., 3., 4., 5.]).to(device))"
   ]
  },
  {
   "cell_type": "markdown",
   "id": "directed-african",
   "metadata": {},
   "source": [
    "### Let's start with 1 epoch"
   ]
  },
  {
   "cell_type": "code",
   "execution_count": 49,
   "id": "processed-property",
   "metadata": {},
   "outputs": [],
   "source": [
    "num_batches = []\n",
    "val_accuracies = []\n",
    "val_losses = []\n",
    "val_errors = []"
   ]
  },
  {
   "cell_type": "code",
   "execution_count": 50,
   "id": "greenhouse-friend",
   "metadata": {},
   "outputs": [
    {
     "data": {
      "application/vnd.jupyter.widget-view+json": {
       "model_id": "104d9a958dc945eaab95f9b34b3927a2",
       "version_major": 2,
       "version_minor": 0
      },
      "text/plain": [
       "  0%|          | 0/7000 [00:00<?, ?it/s]"
      ]
     },
     "metadata": {},
     "output_type": "display_data"
    },
    {
     "name": "stdout",
     "output_type": "stream",
     "text": [
      "Val Acc: 7.13%\n",
      "Val Err: 1.67\n",
      "Val Acc: 50.80%\n",
      "Val Err: 1.19\n",
      "Val Acc: 61.07%\n",
      "Val Err: 1.00\n",
      "Val Acc: 65.53%\n",
      "Val Err: 0.90\n",
      "Val Acc: 69.80%\n",
      "Val Err: 0.87\n",
      "Val Acc: 64.87%\n",
      "Val Err: 0.82\n",
      "Val Acc: 68.67%\n",
      "Val Err: 0.77\n",
      "Val Acc: 68.07%\n",
      "Val Err: 0.75\n",
      "Val Acc: 69.80%\n",
      "Val Err: 0.74\n",
      "Val Acc: 70.87%\n",
      "Val Err: 0.66\n",
      "Val Acc: 71.87%\n",
      "Val Err: 0.66\n",
      "Val Acc: 71.20%\n",
      "Val Err: 0.63\n",
      "Val Acc: 71.13%\n",
      "Val Err: 0.66\n",
      "Val Acc: 68.73%\n",
      "Val Err: 0.65\n",
      "Val Acc: 71.67%\n",
      "Val Err: 0.63\n",
      "Val Acc: 68.33%\n",
      "Val Err: 0.61\n",
      "Val Acc: 71.87%\n",
      "Val Err: 0.61\n",
      "Val Acc: 69.73%\n",
      "Val Err: 0.60\n",
      "Val Acc: 69.00%\n",
      "Val Err: 0.63\n",
      "Val Acc: 70.73%\n",
      "Val Err: 0.59\n",
      "Val Acc: 69.13%\n",
      "Val Err: 0.57\n",
      "Val Acc: 69.13%\n",
      "Val Err: 0.62\n",
      "Val Acc: 71.27%\n",
      "Val Err: 0.59\n",
      "Val Acc: 69.47%\n",
      "Val Err: 0.59\n",
      "Val Acc: 70.60%\n",
      "Val Err: 0.59\n",
      "Val Acc: 72.67%\n",
      "Val Err: 0.59\n",
      "Val Acc: 71.47%\n",
      "Val Err: 0.54\n",
      "Val Acc: 70.07%\n",
      "Val Err: 0.53\n",
      "Val Acc: 70.07%\n",
      "Val Err: 0.56\n",
      "Val Acc: 70.73%\n",
      "Val Err: 0.54\n",
      "Val Acc: 70.07%\n",
      "Val Err: 0.53\n"
     ]
    }
   ],
   "source": [
    "batches = 7000\n",
    "\n",
    "model.train()\n",
    "for i, (reviews, classes) in enumerate(tqdm(islice(train_loader, batches), total=batches)): # use the term 'class' instead of 'rating' to denote that class = rating - 1\n",
    "    \n",
    "    if i % (batches // 30) == 0: # do 30 val acc computations\n",
    "        model.eval()\n",
    "        val_loss = 0\n",
    "        val_accuracy = 0\n",
    "        val_error = 0\n",
    "        outof = 0\n",
    "        with torch.no_grad():\n",
    "            for reviews, classes in islice(val_loader, 150): # 150 * batch_size examples to evaluate on\n",
    "                inputs = tokenizer(reviews, return_tensors=\"pt\", padding=True, truncation=True)\n",
    "                logits = model(**inputs.to(device)).logits\n",
    "                _, pred = torch.max(logits, 1)\n",
    "                val_accuracy += (pred == classes.to(device)).sum().item()\n",
    "                val_loss += loss_fn(logits, classes.to(device))\n",
    "                val_error += ((classes.to(device) + 1) - expected_rating(logits)).abs().sum()\n",
    "                outof += len(classes)\n",
    "        print(\"Val Acc: {:.2f}%\".format(val_accuracy / outof * 100))\n",
    "        print(\"Val Err: {:.2f}\".format(val_error / outof))\n",
    "        num_batches.append(i)\n",
    "        val_accuracies.append(val_accuracy / outof)\n",
    "        val_losses.append(val_loss / outof)\n",
    "        val_errors.append(val_error / outof)\n",
    "        model.train()\n",
    "    \n",
    "    optimizer.zero_grad()\n",
    "    inputs = tokenizer(reviews, return_tensors=\"pt\", padding=True, truncation=True)\n",
    "    logits = model(**inputs.to(device)).logits\n",
    "    loss = loss_fn(logits, classes.to(device)) * ((classes.to(device) + 1) - expected_rating(logits)).abs().sum()\n",
    "    loss.backward()\n",
    "    optimizer.step()\n",
    "        "
   ]
  },
  {
   "cell_type": "code",
   "execution_count": 51,
   "id": "described-sleep",
   "metadata": {},
   "outputs": [],
   "source": [
    "p = pathlib.Path('exp4')\n",
    "p.mkdir()"
   ]
  },
  {
   "cell_type": "code",
   "execution_count": 52,
   "id": "fewer-modem",
   "metadata": {},
   "outputs": [],
   "source": [
    "torch.save({\n",
    "    'batches': num_batches,\n",
    "    'accuracies': val_accuracies,\n",
    "    'losses': val_losses,\n",
    "    'errors': val_errors\n",
    "}, p/\"training_data.pt\")"
   ]
  },
  {
   "cell_type": "code",
   "execution_count": 53,
   "id": "completed-deputy",
   "metadata": {},
   "outputs": [
    {
     "data": {
      "image/png": "[encoded data removed]",
      "text/plain": [
       "<Figure size 432x288 with 1 Axes>"
      ]
     },
     "metadata": {
      "needs_background": "light"
     },
     "output_type": "display_data"
    }
   ],
   "source": [
    "plt.plot(num_batches, val_accuracies)\n",
    "plt.ylabel(\"Validation Accuracy\")\n",
    "plt.xlabel(\"Batches\")\n",
    "plt.title(\"DistilBERT Linear Head\")\n",
    "plt.savefig(p/\"accuracy_plot.pdf\")"
   ]
  },
  {
   "cell_type": "code",
   "execution_count": 67,
   "id": "directed-purse",
   "metadata": {},
   "outputs": [
    {
     "data": {
      "image/png": "[encoded data removed]",
      "text/plain": [
       "<Figure size 432x288 with 1 Axes>"
      ]
     },
     "metadata": {
      "needs_background": "light"
     },
     "output_type": "display_data"
    }
   ],
   "source": [
    "plt.plot(num_batches, val_errors)\n",
    "plt.ylabel(\"Mean Validation Rating Error\")\n",
    "plt.xlabel(\"Batches\")\n",
    "plt.title(\"DistilBERT Linear Head\")\n",
    "plt.savefig(p/\"error_plot.pdf\")"
   ]
  },
  {
   "cell_type": "code",
   "execution_count": 68,
   "id": "medical-frank",
   "metadata": {},
   "outputs": [],
   "source": [
    "torch.save(model.classifier.state_dict(), p/\"classifier.pt\")"
   ]
  },
  {
   "cell_type": "code",
   "execution_count": null,
   "id": "geographic-walker",
   "metadata": {},
   "outputs": [],
   "source": []
  },
  {
   "cell_type": "code",
   "execution_count": null,
   "id": "prescribed-appliance",
   "metadata": {},
   "outputs": [],
   "source": []
  },
  {
   "cell_type": "code",
   "execution_count": null,
   "id": "banned-pasta",
   "metadata": {},
   "outputs": [],
   "source": []
  },
  {
   "cell_type": "code",
   "execution_count": 11,
   "id": "miniature-villa",
   "metadata": {},
   "outputs": [
    {
     "name": "stderr",
     "output_type": "stream",
     "text": [
      "Some weights of the model checkpoint at distilbert-base-uncased were not used when initializing DistilBertForSequenceClassification: ['vocab_transform.weight', 'vocab_transform.bias', 'vocab_layer_norm.weight', 'vocab_layer_norm.bias', 'vocab_projector.weight', 'vocab_projector.bias']\n",
      "- This IS expected if you are initializing DistilBertForSequenceClassification from the checkpoint of a model trained on another task or with another architecture (e.g. initializing a BertForSequenceClassification model from a BertForPreTraining model).\n",
      "- This IS NOT expected if you are initializing DistilBertForSequenceClassification from the checkpoint of a model that you expect to be exactly identical (initializing a BertForSequenceClassification model from a BertForSequenceClassification model).\n",
      "Some weights of DistilBertForSequenceClassification were not initialized from the model checkpoint at distilbert-base-uncased and are newly initialized: ['pre_classifier.weight', 'pre_classifier.bias', 'classifier.weight', 'classifier.bias']\n",
      "You should probably TRAIN this model on a down-stream task to be able to use it for predictions and inference.\n"
     ]
    }
   ],
   "source": [
    "tokenizer = DistilBertTokenizer.from_pretrained('distilbert-base-uncased')\n",
    "model = DistilBertForSequenceClassification.from_pretrained('distilbert-base-uncased').to(device)\n",
    "model.classifier = nn.Sequential(\n",
    "    nn.Linear(in_features=768, out_features=5, bias=True),\n",
    ").to(device)"
   ]
  },
  {
   "cell_type": "code",
   "execution_count": 18,
   "id": "rocky-proposal",
   "metadata": {},
   "outputs": [],
   "source": [
    "text = \"Great place! 5 stars.\""
   ]
  },
  {
   "cell_type": "code",
   "execution_count": 19,
   "id": "international-unemployment",
   "metadata": {},
   "outputs": [],
   "source": [
    "inputs = tokenizer(text, return_tensors=\"pt\", padding=True, truncation=True)"
   ]
  },
  {
   "cell_type": "code",
   "execution_count": 24,
   "id": "protected-equivalent",
   "metadata": {},
   "outputs": [
    {
     "data": {
      "text/plain": [
       "tensor([[ 101, 2307, 2173,  999, 1019, 3340, 1012,  102]])"
      ]
     },
     "execution_count": 24,
     "metadata": {},
     "output_type": "execute_result"
    }
   ],
   "source": [
    "inputs['input_ids']"
   ]
  },
  {
   "cell_type": "code",
   "execution_count": null,
   "id": "reliable-doctor",
   "metadata": {},
   "outputs": [],
   "source": []
  },
  {
   "cell_type": "code",
   "execution_count": null,
   "id": "soviet-narrative",
   "metadata": {},
   "outputs": [],
   "source": []
  },
  {
   "cell_type": "code",
   "execution_count": null,
   "id": "alleged-volunteer",
   "metadata": {},
   "outputs": [],
   "source": []
  },
  {
   "cell_type": "code",
   "execution_count": 57,
   "id": "organizational-frequency",
   "metadata": {},
   "outputs": [],
   "source": [
    "logits = model(**inputs.to(device)).logits"
   ]
  },
  {
   "cell_type": "code",
   "execution_count": 60,
   "id": "preceding-sympathy",
   "metadata": {},
   "outputs": [
    {
     "data": {
      "text/plain": [
       "tensor([[0.0091, 0.0016, 0.0031, 0.0375, 0.9487]], device='cuda:0',\n",
       "       grad_fn=<SoftmaxBackward>)"
      ]
     },
     "execution_count": 60,
     "metadata": {},
     "output_type": "execute_result"
    }
   ],
   "source": [
    "torch.softmax(logits, dim=1)"
   ]
  },
  {
   "cell_type": "code",
   "execution_count": 61,
   "id": "loaded-casting",
   "metadata": {},
   "outputs": [],
   "source": [
    "_, pred = torch.max(logits, 1)"
   ]
  },
  {
   "cell_type": "code",
   "execution_count": 66,
   "id": "combined-jason",
   "metadata": {},
   "outputs": [
    {
     "data": {
      "text/plain": [
       "4.0"
      ]
     },
     "execution_count": 66,
     "metadata": {},
     "output_type": "execute_result"
    }
   ],
   "source": [
    "float(pred.item())"
   ]
  },
  {
   "cell_type": "code",
   "execution_count": null,
   "id": "finished-riding",
   "metadata": {},
   "outputs": [],
   "source": []
  },
  {
   "cell_type": "code",
   "execution_count": null,
   "id": "corporate-warner",
   "metadata": {},
   "outputs": [],
   "source": []
  },
  {
   "cell_type": "code",
   "execution_count": null,
   "id": "adjustable-christopher",
   "metadata": {},
   "outputs": [],
   "source": []
  },
  {
   "cell_type": "code",
   "execution_count": null,
   "id": "solid-kelly",
   "metadata": {},
   "outputs": [],
   "source": []
  },
  {
   "cell_type": "code",
   "execution_count": null,
   "id": "delayed-fishing",
   "metadata": {},
   "outputs": [],
   "source": []
  },
  {
   "cell_type": "code",
   "execution_count": null,
   "id": "actual-remove",
   "metadata": {},
   "outputs": [],
   "source": []
  },
  {
   "cell_type": "code",
   "execution_count": null,
   "id": "accepted-exclusive",
   "metadata": {},
   "outputs": [],
   "source": []
  },
  {
   "cell_type": "code",
   "execution_count": null,
   "id": "centered-amazon",
   "metadata": {},
   "outputs": [],
   "source": []
  },
  {
   "cell_type": "code",
   "execution_count": null,
   "id": "editorial-substitute",
   "metadata": {},
   "outputs": [],
   "source": []
  }
 ],
 "metadata": {
  "kernelspec": {
   "display_name": "Python 3",
   "language": "python",
   "name": "python3"
  },
  "language_info": {
   "codemirror_mode": {
    "name": "ipython",
    "version": 3
   },
   "file_extension": ".py",
   "mimetype": "text/x-python",
   "name": "python",
   "nbconvert_exporter": "python",
   "pygments_lexer": "ipython3",
   "version": "3.8.8"
  }
 },
 "nbformat": 4,
 "nbformat_minor": 5
}
