{
 "cells": [
  {
   "cell_type": "code",
   "execution_count": 1,
   "id": "difficult-bracelet",
   "metadata": {},
   "outputs": [],
   "source": [
    "import json\n",
    "import pathlib\n",
    "from itertools import islice\n",
    "from tqdm.auto import tqdm\n",
    "\n",
    "import numpy as np\n",
    "import matplotlib.pyplot as plt\n",
    "\n",
    "import torch\n",
    "import torch.nn as nn\n",
    "from transformers import BertTokenizer, BertForSequenceClassification\n",
    "from transformers import DistilBertTokenizer, DistilBertForSequenceClassification"
   ]
  },
  {
   "cell_type": "code",
   "execution_count": 2,
   "id": "mathematical-pursuit",
   "metadata": {},
   "outputs": [],
   "source": [
    "device = 'cuda:0' if torch.cuda.is_available() else 'cpu'\n",
    "# device = 'cpu'"
   ]
  },
  {
   "cell_type": "code",
   "execution_count": 3,
   "id": "vulnerable-vatican",
   "metadata": {},
   "outputs": [
    {
     "data": {
      "text/plain": [
       "'cuda:0'"
      ]
     },
     "execution_count": 3,
     "metadata": {},
     "output_type": "execute_result"
    }
   ],
   "source": [
    "device"
   ]
  },
  {
   "cell_type": "markdown",
   "id": "pleased-bleeding",
   "metadata": {},
   "source": [
    "## Create and load dataset\n",
    "\n",
    "**Note that there are 533581 examples in our dataset**"
   ]
  },
  {
   "cell_type": "code",
   "execution_count": 4,
   "id": "contained-going",
   "metadata": {},
   "outputs": [],
   "source": [
    "class YelpDataset(torch.utils.data.Dataset):\n",
    "    \"\"\"Yelp reviews dataset (533581 reviews)\"\"\"\n",
    "\n",
    "    def __init__(self, json_file='../../yelp_review_training_dataset.jsonl', transform=None):\n",
    "        \"\"\"\n",
    "        Args:\n",
    "            json_file (string): Path to the json file for dataset\n",
    "            transform (callable, optional): Optional transform to be applied\n",
    "                on a sample.\n",
    "        \"\"\"\n",
    "        with open(json_file, 'r') as f:\n",
    "            self.data = [json.loads(line) for line in f]\n",
    "        self.transform = transform\n",
    "\n",
    "    def __len__(self):\n",
    "        return len(self.data)\n",
    "\n",
    "    def __getitem__(self, idx):\n",
    "#         if torch.is_tensor(idx):\n",
    "#             idx = idx.tolist()\n",
    "        text, review = self.data[idx]['text'], int(self.data[idx]['stars'])\n",
    "        sample = (text, review - 1) # subtract one so that one-hot label is in [0, 4]\n",
    "        if self.transform:\n",
    "            sample = self.transform(sample)\n",
    "        return sample"
   ]
  },
  {
   "cell_type": "code",
   "execution_count": 5,
   "id": "handled-platform",
   "metadata": {},
   "outputs": [],
   "source": [
    "data = YelpDataset()"
   ]
  },
  {
   "cell_type": "code",
   "execution_count": 6,
   "id": "blessed-buffer",
   "metadata": {},
   "outputs": [
    {
     "data": {
      "text/plain": [
       "(array([129878.,  35858.,  34263.,  72422., 261160.]),\n",
       " array([1. , 1.8, 2.6, 3.4, 4.2, 5. ]),\n",
       " <BarContainer object of 5 artists>)"
      ]
     },
     "execution_count": 6,
     "metadata": {},
     "output_type": "execute_result"
    },
    {
     "data": {
      "image/png": "[encoded data removed]",
      "text/plain": [
       "<Figure size 432x288 with 1 Axes>"
      ]
     },
     "metadata": {
      "needs_background": "light"
     },
     "output_type": "display_data"
    }
   ],
   "source": [
    "ratings = [pair[1]+1 for pair in data]\n",
    "plt.hist(ratings, bins=5)"
   ]
  },
  {
   "cell_type": "markdown",
   "id": "spatial-deputy",
   "metadata": {},
   "source": [
    "We have a problem here -- our dataset is very unbalanced. Only about a quarter of it is ratings which are not 1 or 5 stars. So to mitigate this bias, we need to somehow sample from our dataset in a way which balances out the ratings. "
   ]
  },
  {
   "cell_type": "markdown",
   "id": "grand-google",
   "metadata": {},
   "source": [
    "## Created balanced data loaders"
   ]
  },
  {
   "cell_type": "code",
   "execution_count": 7,
   "id": "visible-compiler",
   "metadata": {},
   "outputs": [],
   "source": [
    "class_sample_count = [129878, 35858, 34263, 72422, 261160]\n",
    "dist = (1 / np.array(class_sample_count))"
   ]
  },
  {
   "cell_type": "code",
   "execution_count": 8,
   "id": "tender-diving",
   "metadata": {},
   "outputs": [],
   "source": [
    "train = torch.utils.data.Subset(data, range(400000))\n",
    "train_weights = [dist[cat] for (text, cat) in train]\n",
    "train_sampler = torch.utils.data.sampler.WeightedRandomSampler(train_weights, num_samples=len(train), replacement=False)\n",
    "train_loader = torch.utils.data.DataLoader(train, batch_size=10, sampler=train_sampler)"
   ]
  },
  {
   "cell_type": "code",
   "execution_count": 9,
   "id": "received-speaker",
   "metadata": {},
   "outputs": [],
   "source": [
    "val = torch.utils.data.Subset(data, range(400000, 480000))\n",
    "val_weights = [dist[cat] for (text, cat) in val]\n",
    "val_sampler = torch.utils.data.sampler.WeightedRandomSampler(val_weights, num_samples=len(val), replacement=False)\n",
    "val_loader = torch.utils.data.DataLoader(val, batch_size=10, sampler=val_sampler)"
   ]
  },
  {
   "cell_type": "code",
   "execution_count": 10,
   "id": "simplified-essence",
   "metadata": {},
   "outputs": [],
   "source": [
    "test = torch.utils.data.Subset(data, range(480000, len(data)))\n",
    "test_weights = [dist[cat] for (text, cat) in test]\n",
    "test_sampler = torch.utils.data.sampler.WeightedRandomSampler(test_weights, num_samples=len(test), replacement=False)\n",
    "test_loader = torch.utils.data.DataLoader(val, batch_size=10, sampler=test_sampler)"
   ]
  },
  {
   "cell_type": "markdown",
   "id": "respiratory-briefs",
   "metadata": {},
   "source": [
    "# exp01 -  First do linear classifier on BERT hidden state"
   ]
  },
  {
   "cell_type": "markdown",
   "id": "under-sally",
   "metadata": {},
   "source": [
    "## Load up tokenizer and model"
   ]
  },
  {
   "cell_type": "code",
   "execution_count": 11,
   "id": "confirmed-device",
   "metadata": {},
   "outputs": [
    {
     "name": "stderr",
     "output_type": "stream",
     "text": [
      "Some weights of the model checkpoint at distilbert-base-uncased were not used when initializing DistilBertForSequenceClassification: ['vocab_transform.weight', 'vocab_transform.bias', 'vocab_layer_norm.weight', 'vocab_layer_norm.bias', 'vocab_projector.weight', 'vocab_projector.bias']\n",
      "- This IS expected if you are initializing DistilBertForSequenceClassification from the checkpoint of a model trained on another task or with another architecture (e.g. initializing a BertForSequenceClassification model from a BertForPreTraining model).\n",
      "- This IS NOT expected if you are initializing DistilBertForSequenceClassification from the checkpoint of a model that you expect to be exactly identical (initializing a BertForSequenceClassification model from a BertForSequenceClassification model).\n",
      "Some weights of DistilBertForSequenceClassification were not initialized from the model checkpoint at distilbert-base-uncased and are newly initialized: ['pre_classifier.weight', 'pre_classifier.bias', 'classifier.weight', 'classifier.bias']\n",
      "You should probably TRAIN this model on a down-stream task to be able to use it for predictions and inference.\n"
     ]
    }
   ],
   "source": [
    "tokenizer = DistilBertTokenizer.from_pretrained('distilbert-base-uncased')\n",
    "model = DistilBertForSequenceClassification.from_pretrained('distilbert-base-uncased').to(device)\n",
    "model.classifier = nn.Sequential(\n",
    "    nn.Linear(in_features=768, out_features=5, bias=True),\n",
    ").to(device)\n"
   ]
  },
  {
   "cell_type": "markdown",
   "id": "funny-seattle",
   "metadata": {},
   "source": [
    "## Train the classifier"
   ]
  },
  {
   "cell_type": "code",
   "execution_count": 12,
   "id": "offensive-diamond",
   "metadata": {},
   "outputs": [],
   "source": [
    "optimizer = torch.optim.Adam(model.classifier.parameters())\n",
    "loss_fn = nn.CrossEntropyLoss(reduction='sum')"
   ]
  },
  {
   "cell_type": "code",
   "execution_count": 13,
   "id": "accessory-revelation",
   "metadata": {},
   "outputs": [],
   "source": [
    "def expected_rating(logits):\n",
    "    \"\"\"Computes expected rating from logits \\in [1, 5]\"\"\"\n",
    "    probs = torch.softmax(logits, dim=1)\n",
    "    return torch.matmul(probs, torch.tensor([1., 2., 3., 4., 5.]).to(device))"
   ]
  },
  {
   "cell_type": "markdown",
   "id": "organic-configuration",
   "metadata": {},
   "source": [
    "### Let's start with 1 epoch"
   ]
  },
  {
   "cell_type": "code",
   "execution_count": 14,
   "id": "bored-tattoo",
   "metadata": {},
   "outputs": [],
   "source": [
    "num_batches = []\n",
    "val_accuracies = []\n",
    "val_losses = []\n",
    "val_errors = []"
   ]
  },
  {
   "cell_type": "code",
   "execution_count": 15,
   "id": "hazardous-mexican",
   "metadata": {},
   "outputs": [
    {
     "data": {
      "application/vnd.jupyter.widget-view+json": {
       "model_id": "7e0a6928107f4946a8dfe20a28489684",
       "version_major": 2,
       "version_minor": 0
      },
      "text/plain": [
       "  0%|          | 0/7000 [00:00<?, ?it/s]"
      ]
     },
     "metadata": {},
     "output_type": "display_data"
    },
    {
     "name": "stdout",
     "output_type": "stream",
     "text": [
      "Val Acc: 19.47%\n",
      "Val Err: 1.20\n",
      "Val Acc: 40.40%\n",
      "Val Err: 1.11\n",
      "Val Acc: 48.60%\n",
      "Val Err: 1.01\n",
      "Val Acc: 48.40%\n",
      "Val Err: 0.92\n",
      "Val Acc: 45.40%\n",
      "Val Err: 0.87\n",
      "Val Acc: 49.20%\n",
      "Val Err: 0.82\n",
      "Val Acc: 51.60%\n",
      "Val Err: 0.83\n",
      "Val Acc: 49.67%\n",
      "Val Err: 0.79\n",
      "Val Acc: 50.60%\n",
      "Val Err: 0.79\n",
      "Val Acc: 50.07%\n",
      "Val Err: 0.74\n",
      "Val Acc: 50.53%\n",
      "Val Err: 0.76\n",
      "Val Acc: 52.07%\n",
      "Val Err: 0.75\n",
      "Val Acc: 51.93%\n",
      "Val Err: 0.70\n",
      "Val Acc: 51.53%\n",
      "Val Err: 0.72\n",
      "Val Acc: 52.07%\n",
      "Val Err: 0.69\n",
      "Val Acc: 52.27%\n",
      "Val Err: 0.71\n",
      "Val Acc: 49.33%\n",
      "Val Err: 0.69\n",
      "Val Acc: 53.00%\n",
      "Val Err: 0.71\n",
      "Val Acc: 51.80%\n",
      "Val Err: 0.70\n",
      "Val Acc: 51.40%\n",
      "Val Err: 0.67\n",
      "Val Acc: 51.33%\n",
      "Val Err: 0.69\n",
      "Val Acc: 53.00%\n",
      "Val Err: 0.66\n",
      "Val Acc: 54.73%\n",
      "Val Err: 0.67\n",
      "Val Acc: 52.07%\n",
      "Val Err: 0.64\n",
      "Val Acc: 52.33%\n",
      "Val Err: 0.66\n",
      "Val Acc: 56.13%\n",
      "Val Err: 0.62\n",
      "Val Acc: 51.47%\n",
      "Val Err: 0.65\n",
      "Val Acc: 52.00%\n",
      "Val Err: 0.63\n",
      "Val Acc: 52.00%\n",
      "Val Err: 0.66\n",
      "Val Acc: 51.00%\n",
      "Val Err: 0.65\n",
      "Val Acc: 49.87%\n",
      "Val Err: 0.65\n"
     ]
    }
   ],
   "source": [
    "batches = 7000\n",
    "\n",
    "model.train()\n",
    "for i, (reviews, classes) in enumerate(tqdm(islice(train_loader, batches), total=batches)): # use the term 'class' instead of 'rating' to denote that class = rating - 1\n",
    "    \n",
    "    if i % (batches // 30) == 0: # do 30 val acc computations\n",
    "        model.eval()\n",
    "        val_loss = 0\n",
    "        val_accuracy = 0\n",
    "        val_error = 0\n",
    "        outof = 0\n",
    "        with torch.no_grad():\n",
    "            for reviews, classes in islice(val_loader, 150): # 150 * batch_size examples to evaluate on\n",
    "                inputs = tokenizer(reviews, return_tensors=\"pt\", padding=True, truncation=True)\n",
    "                logits = model(**inputs.to(device)).logits\n",
    "                _, pred = torch.max(logits, 1)\n",
    "                val_accuracy += (pred == classes.to(device)).sum().item()\n",
    "                val_loss += loss_fn(logits, classes.to(device))\n",
    "                val_error += ((classes.to(device) + 1) - expected_rating(logits)).abs().sum()\n",
    "                outof += len(classes)\n",
    "        print(\"Val Acc: {:.2f}%\".format(val_accuracy / outof * 100))\n",
    "        print(\"Val Err: {:.2f}\".format(val_error / outof))\n",
    "        num_batches.append(i)\n",
    "        val_accuracies.append(val_accuracy / outof)\n",
    "        val_losses.append(val_loss / outof)\n",
    "        val_errors.append(val_error / outof)\n",
    "        model.train()\n",
    "    \n",
    "    optimizer.zero_grad()\n",
    "    inputs = tokenizer(reviews, return_tensors=\"pt\", padding=True, truncation=True)\n",
    "    logits = model(**inputs.to(device)).logits\n",
    "    loss = loss_fn(logits, classes.to(device))\n",
    "    loss.backward()\n",
    "    optimizer.step()\n",
    "        "
   ]
  },
  {
   "cell_type": "code",
   "execution_count": 16,
   "id": "dynamic-territory",
   "metadata": {},
   "outputs": [],
   "source": [
    "p = pathlib.Path('exp1')\n",
    "p.mkdir()"
   ]
  },
  {
   "cell_type": "code",
   "execution_count": 17,
   "id": "composed-platinum",
   "metadata": {},
   "outputs": [],
   "source": [
    "torch.save({\n",
    "    'batches': num_batches,\n",
    "    'accuracies': val_accuracies,\n",
    "    'losses': val_losses,\n",
    "    'errors': val_errors\n",
    "}, p/\"training_data.pt\")"
   ]
  },
  {
   "cell_type": "code",
   "execution_count": 18,
   "id": "accomplished-coordinate",
   "metadata": {},
   "outputs": [
    {
     "data": {
      "image/png": "[encoded data removed]",
      "text/plain": [
       "<Figure size 432x288 with 1 Axes>"
      ]
     },
     "metadata": {
      "needs_background": "light"
     },
     "output_type": "display_data"
    }
   ],
   "source": [
    "plt.plot(num_batches, val_accuracies)\n",
    "plt.ylabel(\"Validation Accuracy\")\n",
    "plt.xlabel(\"Batches\")\n",
    "plt.title(\"DistilBERT Linear Head\")\n",
    "plt.savefig(p/\"accuracy_plot.pdf\")"
   ]
  },
  {
   "cell_type": "code",
   "execution_count": 19,
   "id": "ethical-british",
   "metadata": {},
   "outputs": [
    {
     "data": {
      "image/png": "[encoded data removed]",
      "text/plain": [
       "<Figure size 432x288 with 1 Axes>"
      ]
     },
     "metadata": {
      "needs_background": "light"
     },
     "output_type": "display_data"
    }
   ],
   "source": [
    "plt.plot(num_batches, val_errors)\n",
    "plt.ylabel(\"Mean Validation Rating Error\")\n",
    "plt.xlabel(\"Batches\")\n",
    "plt.title(\"DistilBERT Linear Head\")\n",
    "plt.savefig(p/\"error_plot.pdf\")"
   ]
  },
  {
   "cell_type": "code",
   "execution_count": 20,
   "id": "decimal-surgery",
   "metadata": {},
   "outputs": [],
   "source": [
    "torch.save(model.classifier.state_dict(), p/\"classifier.pt\")"
   ]
  },
  {
   "cell_type": "markdown",
   "id": "aggressive-frederick",
   "metadata": {},
   "source": [
    "# exp2 -  MLP classifier on BERT hidden state"
   ]
  },
  {
   "cell_type": "markdown",
   "id": "settled-savage",
   "metadata": {},
   "source": [
    "## Load up tokenizer and model"
   ]
  },
  {
   "cell_type": "code",
   "execution_count": 21,
   "id": "revised-dispute",
   "metadata": {},
   "outputs": [
    {
     "name": "stderr",
     "output_type": "stream",
     "text": [
      "Some weights of the model checkpoint at distilbert-base-uncased were not used when initializing DistilBertForSequenceClassification: ['vocab_transform.weight', 'vocab_transform.bias', 'vocab_layer_norm.weight', 'vocab_layer_norm.bias', 'vocab_projector.weight', 'vocab_projector.bias']\n",
      "- This IS expected if you are initializing DistilBertForSequenceClassification from the checkpoint of a model trained on another task or with another architecture (e.g. initializing a BertForSequenceClassification model from a BertForPreTraining model).\n",
      "- This IS NOT expected if you are initializing DistilBertForSequenceClassification from the checkpoint of a model that you expect to be exactly identical (initializing a BertForSequenceClassification model from a BertForSequenceClassification model).\n",
      "Some weights of DistilBertForSequenceClassification were not initialized from the model checkpoint at distilbert-base-uncased and are newly initialized: ['pre_classifier.weight', 'pre_classifier.bias', 'classifier.weight', 'classifier.bias']\n",
      "You should probably TRAIN this model on a down-stream task to be able to use it for predictions and inference.\n"
     ]
    }
   ],
   "source": [
    "tokenizer = DistilBertTokenizer.from_pretrained('distilbert-base-uncased')\n",
    "model = DistilBertForSequenceClassification.from_pretrained('distilbert-base-uncased').to(device)\n",
    "model.classifier = nn.Sequential(\n",
    "    nn.Linear(in_features=768, out_features=800, bias=True),\n",
    "    nn.ReLU(),\n",
    "    nn.Linear(in_features=800, out_features=5, bias=True)\n",
    ").to(device)\n"
   ]
  },
  {
   "cell_type": "markdown",
   "id": "antique-farming",
   "metadata": {},
   "source": [
    "## Train the classifier"
   ]
  },
  {
   "cell_type": "code",
   "execution_count": 22,
   "id": "covered-bandwidth",
   "metadata": {},
   "outputs": [],
   "source": [
    "optimizer = torch.optim.Adam(model.classifier.parameters())\n",
    "loss_fn = nn.CrossEntropyLoss(reduction='sum')"
   ]
  },
  {
   "cell_type": "code",
   "execution_count": 23,
   "id": "threaded-bulgaria",
   "metadata": {},
   "outputs": [],
   "source": [
    "def expected_rating(logits):\n",
    "    \"\"\"Computes expected rating from logits \\in [1, 5]\"\"\"\n",
    "    probs = torch.softmax(logits, dim=1)\n",
    "    return torch.matmul(probs, torch.tensor([1., 2., 3., 4., 5.]).to(device))"
   ]
  },
  {
   "cell_type": "markdown",
   "id": "preceding-personality",
   "metadata": {},
   "source": [
    "### Let's start with 1 epoch"
   ]
  },
  {
   "cell_type": "code",
   "execution_count": 24,
   "id": "wooden-heavy",
   "metadata": {},
   "outputs": [],
   "source": [
    "num_batches = []\n",
    "val_accuracies = []\n",
    "val_losses = []\n",
    "val_errors = []"
   ]
  },
  {
   "cell_type": "code",
   "execution_count": 25,
   "id": "acquired-tactics",
   "metadata": {},
   "outputs": [
    {
     "data": {
      "application/vnd.jupyter.widget-view+json": {
       "model_id": "803463373d0344ce90153f68b5be6b04",
       "version_major": 2,
       "version_minor": 0
      },
      "text/plain": [
       "  0%|          | 0/10000 [00:00<?, ?it/s]"
      ]
     },
     "metadata": {},
     "output_type": "display_data"
    },
    {
     "name": "stdout",
     "output_type": "stream",
     "text": [
      "Val Acc: 18.93%\n",
      "Val Err: 1.20\n",
      "Val Acc: 45.87%\n",
      "Val Err: 0.78\n",
      "Val Acc: 52.93%\n",
      "Val Err: 0.65\n",
      "Val Acc: 51.67%\n",
      "Val Err: 0.64\n",
      "Val Acc: 43.87%\n",
      "Val Err: 0.77\n",
      "Val Acc: 55.47%\n",
      "Val Err: 0.64\n",
      "Val Acc: 52.53%\n",
      "Val Err: 0.65\n",
      "Val Acc: 56.27%\n",
      "Val Err: 0.61\n",
      "Val Acc: 57.13%\n",
      "Val Err: 0.62\n",
      "Val Acc: 52.73%\n",
      "Val Err: 0.67\n",
      "Val Acc: 53.20%\n",
      "Val Err: 0.59\n",
      "Val Acc: 52.67%\n",
      "Val Err: 0.61\n",
      "Val Acc: 53.07%\n",
      "Val Err: 0.66\n",
      "Val Acc: 55.93%\n",
      "Val Err: 0.62\n",
      "Val Acc: 56.53%\n",
      "Val Err: 0.60\n",
      "Val Acc: 51.67%\n",
      "Val Err: 0.59\n",
      "Val Acc: 53.67%\n",
      "Val Err: 0.64\n",
      "Val Acc: 55.60%\n",
      "Val Err: 0.59\n",
      "Val Acc: 55.60%\n",
      "Val Err: 0.60\n",
      "Val Acc: 53.07%\n",
      "Val Err: 0.58\n",
      "Val Acc: 55.13%\n",
      "Val Err: 0.61\n",
      "Val Acc: 57.13%\n",
      "Val Err: 0.58\n",
      "Val Acc: 52.80%\n",
      "Val Err: 0.61\n",
      "Val Acc: 53.53%\n",
      "Val Err: 0.61\n",
      "Val Acc: 50.60%\n",
      "Val Err: 0.61\n",
      "Val Acc: 51.53%\n",
      "Val Err: 0.59\n",
      "Val Acc: 50.87%\n",
      "Val Err: 0.58\n",
      "Val Acc: 49.27%\n",
      "Val Err: 0.68\n",
      "Val Acc: 49.67%\n",
      "Val Err: 0.60\n",
      "Val Acc: 53.27%\n",
      "Val Err: 0.60\n",
      "Val Acc: 49.47%\n",
      "Val Err: 0.63\n"
     ]
    }
   ],
   "source": [
    "batches = 10000\n",
    "\n",
    "model.train()\n",
    "for i, (reviews, classes) in enumerate(tqdm(islice(train_loader, batches), total=batches)): # use the term 'class' instead of 'rating' to denote that class = rating - 1\n",
    "    \n",
    "    if i % (batches // 30) == 0: # do 30 val acc computations\n",
    "        model.eval()\n",
    "        val_loss = 0\n",
    "        val_accuracy = 0\n",
    "        val_error = 0\n",
    "        outof = 0\n",
    "        with torch.no_grad():\n",
    "            for reviews, classes in islice(val_loader, 150): # 150 * batch_size examples to evaluate on\n",
    "                inputs = tokenizer(reviews, return_tensors=\"pt\", padding=True, truncation=True)\n",
    "                logits = model(**inputs.to(device)).logits\n",
    "                _, pred = torch.max(logits, 1)\n",
    "                val_accuracy += (pred == classes.to(device)).sum().item()\n",
    "                val_loss += loss_fn(logits, classes.to(device))\n",
    "                val_error += ((classes.to(device) + 1) - expected_rating(logits)).abs().sum()\n",
    "                outof += len(classes)\n",
    "        print(\"Val Acc: {:.2f}%\".format(val_accuracy / outof * 100))\n",
    "        print(\"Val Err: {:.2f}\".format(val_error / outof))\n",
    "        num_batches.append(i)\n",
    "        val_accuracies.append(val_accuracy / outof)\n",
    "        val_losses.append(val_loss / outof)\n",
    "        val_errors.append(val_error / outof)\n",
    "        model.train()\n",
    "    \n",
    "    optimizer.zero_grad()\n",
    "    inputs = tokenizer(reviews, return_tensors=\"pt\", padding=True, truncation=True)\n",
    "    logits = model(**inputs.to(device)).logits\n",
    "    loss = loss_fn(logits, classes.to(device))\n",
    "    loss.backward()\n",
    "    optimizer.step()\n",
    "        "
   ]
  },
  {
   "cell_type": "code",
   "execution_count": 26,
   "id": "numerous-subscription",
   "metadata": {},
   "outputs": [],
   "source": [
    "p = pathlib.Path('exp2')\n",
    "p.mkdir()"
   ]
  },
  {
   "cell_type": "code",
   "execution_count": 27,
   "id": "civilian-fishing",
   "metadata": {},
   "outputs": [],
   "source": [
    "torch.save({\n",
    "    'batches': num_batches,\n",
    "    'accuracies': val_accuracies,\n",
    "    'losses': val_losses,\n",
    "    'errors': val_errors\n",
    "}, p/\"training_data.pt\")"
   ]
  },
  {
   "cell_type": "code",
   "execution_count": 28,
   "id": "finite-updating",
   "metadata": {},
   "outputs": [
    {
     "data": {
      "image/png": "[encoded data removed]",
      "text/plain": [
       "<Figure size 432x288 with 1 Axes>"
      ]
     },
     "metadata": {
      "needs_background": "light"
     },
     "output_type": "display_data"
    }
   ],
   "source": [
    "plt.plot(num_batches, val_accuracies)\n",
    "plt.ylabel(\"Validation Accuracy\")\n",
    "plt.xlabel(\"Batches\")\n",
    "plt.title(\"DistilBERT MLP Head\")\n",
    "plt.savefig(p/\"accuracy_plot.pdf\")"
   ]
  },
  {
   "cell_type": "code",
   "execution_count": 29,
   "id": "prerequisite-handy",
   "metadata": {},
   "outputs": [
    {
     "data": {
      "image/png": "[encoded data removed]",
      "text/plain": [
       "<Figure size 432x288 with 1 Axes>"
      ]
     },
     "metadata": {
      "needs_background": "light"
     },
     "output_type": "display_data"
    }
   ],
   "source": [
    "plt.plot(num_batches, val_errors)\n",
    "plt.ylabel(\"Mean Validation Rating Error\")\n",
    "plt.xlabel(\"Batches\")\n",
    "plt.title(\"DistilBERT MLP Head\")\n",
    "plt.savefig(p/\"error_plot.pdf\")"
   ]
  },
  {
   "cell_type": "code",
   "execution_count": 30,
   "id": "connected-vertical",
   "metadata": {},
   "outputs": [],
   "source": [
    "torch.save(model.classifier.state_dict(), p/\"classifier.pt\")"
   ]
  },
  {
   "cell_type": "markdown",
   "id": "artificial-boards",
   "metadata": {},
   "source": [
    "# exp3 -  MLP w/ Dropout classifier on BERT hidden state"
   ]
  },
  {
   "cell_type": "markdown",
   "id": "statutory-curve",
   "metadata": {},
   "source": [
    "## Load up tokenizer and model"
   ]
  },
  {
   "cell_type": "code",
   "execution_count": 37,
   "id": "gorgeous-delta",
   "metadata": {},
   "outputs": [
    {
     "name": "stderr",
     "output_type": "stream",
     "text": [
      "Some weights of the model checkpoint at distilbert-base-uncased were not used when initializing DistilBertForSequenceClassification: ['vocab_transform.weight', 'vocab_transform.bias', 'vocab_layer_norm.weight', 'vocab_layer_norm.bias', 'vocab_projector.weight', 'vocab_projector.bias']\n",
      "- This IS expected if you are initializing DistilBertForSequenceClassification from the checkpoint of a model trained on another task or with another architecture (e.g. initializing a BertForSequenceClassification model from a BertForPreTraining model).\n",
      "- This IS NOT expected if you are initializing DistilBertForSequenceClassification from the checkpoint of a model that you expect to be exactly identical (initializing a BertForSequenceClassification model from a BertForSequenceClassification model).\n",
      "Some weights of DistilBertForSequenceClassification were not initialized from the model checkpoint at distilbert-base-uncased and are newly initialized: ['pre_classifier.weight', 'pre_classifier.bias', 'classifier.weight', 'classifier.bias']\n",
      "You should probably TRAIN this model on a down-stream task to be able to use it for predictions and inference.\n"
     ]
    }
   ],
   "source": [
    "tokenizer = DistilBertTokenizer.from_pretrained('distilbert-base-uncased')\n",
    "model = DistilBertForSequenceClassification.from_pretrained('distilbert-base-uncased').to(device)\n",
    "model.classifier = nn.Sequential(\n",
    "    nn.Dropout(0.25),\n",
    "    nn.Linear(in_features=768, out_features=800, bias=True),\n",
    "    nn.ReLU(),\n",
    "    nn.Dropout(0.25),\n",
    "    nn.Linear(in_features=800, out_features=5, bias=True)\n",
    ").to(device)\n"
   ]
  },
  {
   "cell_type": "markdown",
   "id": "wireless-crossing",
   "metadata": {},
   "source": [
    "## Train the classifier"
   ]
  },
  {
   "cell_type": "code",
   "execution_count": 141,
   "id": "specific-dietary",
   "metadata": {},
   "outputs": [],
   "source": [
    "optimizer = torch.optim.Adam(model.classifier.parameters())\n",
    "loss_fn = nn.CrossEntropyLoss(reduction='sum')"
   ]
  },
  {
   "cell_type": "code",
   "execution_count": 39,
   "id": "flexible-baptist",
   "metadata": {},
   "outputs": [],
   "source": [
    "def expected_rating(logits):\n",
    "    \"\"\"Computes expected rating from logits \\in [1, 5]\"\"\"\n",
    "    probs = torch.softmax(logits, dim=1)\n",
    "    return torch.matmul(probs, torch.tensor([1., 2., 3., 4., 5.]).to(device))"
   ]
  },
  {
   "cell_type": "markdown",
   "id": "weekly-costume",
   "metadata": {},
   "source": [
    "### Let's start with 1 epoch"
   ]
  },
  {
   "cell_type": "code",
   "execution_count": 40,
   "id": "dedicated-generation",
   "metadata": {},
   "outputs": [],
   "source": [
    "num_batches = []\n",
    "val_accuracies = []\n",
    "val_losses = []\n",
    "val_errors = []"
   ]
  },
  {
   "cell_type": "code",
   "execution_count": 41,
   "id": "organizational-honor",
   "metadata": {},
   "outputs": [
    {
     "data": {
      "application/vnd.jupyter.widget-view+json": {
       "model_id": "a752567a79d2476f87f645dabfa1a7f8",
       "version_major": 2,
       "version_minor": 0
      },
      "text/plain": [
       "  0%|          | 0/10000 [00:00<?, ?it/s]"
      ]
     },
     "metadata": {},
     "output_type": "display_data"
    },
    {
     "name": "stdout",
     "output_type": "stream",
     "text": [
      "Val Acc: 17.47%\n",
      "Val Err: 1.21\n",
      "Val Acc: 48.00%\n",
      "Val Err: 0.75\n",
      "Val Acc: 50.27%\n",
      "Val Err: 0.71\n",
      "Val Acc: 52.27%\n",
      "Val Err: 0.68\n",
      "Val Acc: 54.00%\n",
      "Val Err: 0.65\n",
      "Val Acc: 50.87%\n",
      "Val Err: 0.62\n",
      "Val Acc: 49.93%\n",
      "Val Err: 0.71\n",
      "Val Acc: 51.80%\n",
      "Val Err: 0.63\n",
      "Val Acc: 49.80%\n",
      "Val Err: 0.68\n",
      "Val Acc: 50.80%\n",
      "Val Err: 0.69\n",
      "Val Acc: 55.60%\n",
      "Val Err: 0.62\n",
      "Val Acc: 48.53%\n",
      "Val Err: 0.66\n",
      "Val Acc: 52.60%\n",
      "Val Err: 0.65\n",
      "Val Acc: 53.80%\n",
      "Val Err: 0.62\n",
      "Val Acc: 50.93%\n",
      "Val Err: 0.64\n",
      "Val Acc: 52.27%\n",
      "Val Err: 0.60\n",
      "Val Acc: 52.13%\n",
      "Val Err: 0.66\n",
      "Val Acc: 56.07%\n",
      "Val Err: 0.63\n",
      "Val Acc: 49.07%\n",
      "Val Err: 0.67\n",
      "Val Acc: 48.93%\n",
      "Val Err: 0.61\n",
      "Val Acc: 51.47%\n",
      "Val Err: 0.61\n",
      "Val Acc: 52.60%\n",
      "Val Err: 0.63\n",
      "Val Acc: 54.60%\n",
      "Val Err: 0.62\n",
      "Val Acc: 54.27%\n",
      "Val Err: 0.61\n",
      "Val Acc: 56.33%\n",
      "Val Err: 0.61\n",
      "Val Acc: 51.87%\n",
      "Val Err: 0.63\n",
      "Val Acc: 54.33%\n",
      "Val Err: 0.61\n",
      "Val Acc: 53.20%\n",
      "Val Err: 0.59\n",
      "Val Acc: 53.40%\n",
      "Val Err: 0.61\n",
      "Val Acc: 51.27%\n",
      "Val Err: 0.60\n",
      "Val Acc: 51.73%\n",
      "Val Err: 0.64\n"
     ]
    }
   ],
   "source": [
    "batches = 10000\n",
    "\n",
    "model.train()\n",
    "for i, (reviews, classes) in enumerate(tqdm(islice(train_loader, batches), total=batches)): # use the term 'class' instead of 'rating' to denote that class = rating - 1\n",
    "    \n",
    "    if i % (batches // 30) == 0: # do 30 val acc computations\n",
    "        model.eval()\n",
    "        val_loss = 0\n",
    "        val_accuracy = 0\n",
    "        val_error = 0\n",
    "        outof = 0\n",
    "        with torch.no_grad():\n",
    "            for reviews, classes in islice(val_loader, 150): # 150 * batch_size examples to evaluate on\n",
    "                inputs = tokenizer(reviews, return_tensors=\"pt\", padding=True, truncation=True)\n",
    "                logits = model(**inputs.to(device)).logits\n",
    "                _, pred = torch.max(logits, 1)\n",
    "                val_accuracy += (pred == classes.to(device)).sum().item()\n",
    "                val_loss += loss_fn(logits, classes.to(device))\n",
    "                val_error += ((classes.to(device) + 1) - expected_rating(logits)).abs().sum()\n",
    "                outof += len(classes)\n",
    "        print(\"Val Acc: {:.2f}%\".format(val_accuracy / outof * 100))\n",
    "        print(\"Val Err: {:.2f}\".format(val_error / outof))\n",
    "        num_batches.append(i)\n",
    "        val_accuracies.append(val_accuracy / outof)\n",
    "        val_losses.append(val_loss / outof)\n",
    "        val_errors.append(val_error / outof)\n",
    "        model.train()\n",
    "    \n",
    "    optimizer.zero_grad()\n",
    "    inputs = tokenizer(reviews, return_tensors=\"pt\", padding=True, truncation=True)\n",
    "    logits = model(**inputs.to(device)).logits\n",
    "    loss = loss_fn(logits, classes.to(device))\n",
    "    loss.backward()\n",
    "    optimizer.step()\n",
    "        "
   ]
  },
  {
   "cell_type": "code",
   "execution_count": 42,
   "id": "tropical-tourism",
   "metadata": {},
   "outputs": [],
   "source": [
    "p = pathlib.Path('exp3')\n",
    "p.mkdir()"
   ]
  },
  {
   "cell_type": "code",
   "execution_count": 43,
   "id": "soviet-packet",
   "metadata": {},
   "outputs": [],
   "source": [
    "torch.save({\n",
    "    'batches': num_batches,\n",
    "    'accuracies': val_accuracies,\n",
    "    'losses': val_losses,\n",
    "    'errors': val_errors\n",
    "}, p/\"training_data.pt\")"
   ]
  },
  {
   "cell_type": "code",
   "execution_count": 44,
   "id": "strange-college",
   "metadata": {},
   "outputs": [
    {
     "data": {
      "image/png": "[encoded data removed]",
      "text/plain": [
       "<Figure size 432x288 with 1 Axes>"
      ]
     },
     "metadata": {
      "needs_background": "light"
     },
     "output_type": "display_data"
    }
   ],
   "source": [
    "plt.plot(num_batches, val_accuracies)\n",
    "plt.ylabel(\"Validation Accuracy\")\n",
    "plt.xlabel(\"Batches\")\n",
    "plt.title(\"DistilBERT MLP w/ Dropout Head\")\n",
    "plt.savefig(p/\"accuracy_plot.pdf\")"
   ]
  },
  {
   "cell_type": "code",
   "execution_count": 45,
   "id": "respective-bobby",
   "metadata": {},
   "outputs": [
    {
     "data": {
      "image/png": "[encoded data removed]",
      "text/plain": [
       "<Figure size 432x288 with 1 Axes>"
      ]
     },
     "metadata": {
      "needs_background": "light"
     },
     "output_type": "display_data"
    }
   ],
   "source": [
    "plt.plot(num_batches, val_errors)\n",
    "plt.ylabel(\"Mean Validation Rating Error\")\n",
    "plt.xlabel(\"Batches\")\n",
    "plt.title(\"DistilBERT MLP w/ Dropout Head\")\n",
    "plt.savefig(p/\"error_plot.pdf\")"
   ]
  },
  {
   "cell_type": "code",
   "execution_count": 46,
   "id": "accredited-carolina",
   "metadata": {},
   "outputs": [],
   "source": [
    "torch.save(model.classifier.state_dict(), p/\"classifier.pt\")"
   ]
  },
  {
   "cell_type": "markdown",
   "id": "behavioral-mauritius",
   "metadata": {},
   "source": [
    "### let's load this model up and experiment with it"
   ]
  },
  {
   "cell_type": "code",
   "execution_count": 143,
   "id": "alive-rebound",
   "metadata": {},
   "outputs": [
    {
     "name": "stderr",
     "output_type": "stream",
     "text": [
      "Some weights of the model checkpoint at distilbert-base-uncased were not used when initializing DistilBertForSequenceClassification: ['vocab_transform.weight', 'vocab_transform.bias', 'vocab_layer_norm.weight', 'vocab_layer_norm.bias', 'vocab_projector.weight', 'vocab_projector.bias']\n",
      "- This IS expected if you are initializing DistilBertForSequenceClassification from the checkpoint of a model trained on another task or with another architecture (e.g. initializing a BertForSequenceClassification model from a BertForPreTraining model).\n",
      "- This IS NOT expected if you are initializing DistilBertForSequenceClassification from the checkpoint of a model that you expect to be exactly identical (initializing a BertForSequenceClassification model from a BertForSequenceClassification model).\n",
      "Some weights of DistilBertForSequenceClassification were not initialized from the model checkpoint at distilbert-base-uncased and are newly initialized: ['pre_classifier.weight', 'pre_classifier.bias', 'classifier.weight', 'classifier.bias']\n",
      "You should probably TRAIN this model on a down-stream task to be able to use it for predictions and inference.\n"
     ]
    },
    {
     "data": {
      "text/plain": [
       "<All keys matched successfully>"
      ]
     },
     "execution_count": 143,
     "metadata": {},
     "output_type": "execute_result"
    }
   ],
   "source": [
    "tokenizer = DistilBertTokenizer.from_pretrained('distilbert-base-uncased')\n",
    "model = DistilBertForSequenceClassification.from_pretrained('distilbert-base-uncased').to(device)\n",
    "model.classifier = nn.Sequential(\n",
    "    nn.Dropout(0.25),\n",
    "    nn.Linear(in_features=768, out_features=800, bias=True),\n",
    "    nn.ReLU(),\n",
    "    nn.Dropout(0.25),\n",
    "    nn.Linear(in_features=800, out_features=5, bias=True)\n",
    ").to(device)\n",
    "model.classifier.load_state_dict(torch.load('exp3/classifier.pt'))\n",
    "# model.eval()"
   ]
  },
  {
   "cell_type": "code",
   "execution_count": 170,
   "id": "acceptable-bunch",
   "metadata": {},
   "outputs": [],
   "source": [
    "text, ratings = next(iter(val_loader))\n",
    "inputs = tokenizer(text, return_tensors=\"pt\", padding=True, truncation=True)\n",
    "logits = model(**inputs.to(device)).logits\n",
    "_, pred = torch.max(logits, 1)"
   ]
  },
  {
   "cell_type": "code",
   "execution_count": 171,
   "id": "alpine-webster",
   "metadata": {},
   "outputs": [
    {
     "data": {
      "text/plain": [
       "tensor([3, 0, 0, 1, 2, 4, 2, 0, 3, 2])"
      ]
     },
     "execution_count": 171,
     "metadata": {},
     "output_type": "execute_result"
    }
   ],
   "source": [
    "ratings"
   ]
  },
  {
   "cell_type": "code",
   "execution_count": 172,
   "id": "weekly-nutrition",
   "metadata": {},
   "outputs": [
    {
     "data": {
      "text/plain": [
       "tensor([0, 0, 0, 0, 4, 3, 0, 0, 0, 0], device='cuda:0')"
      ]
     },
     "execution_count": 172,
     "metadata": {},
     "output_type": "execute_result"
    }
   ],
   "source": [
    "pred"
   ]
  },
  {
   "cell_type": "code",
   "execution_count": 88,
   "id": "suspended-companion",
   "metadata": {},
   "outputs": [
    {
     "name": "stderr",
     "output_type": "stream",
     "text": [
      "Some weights of the model checkpoint at distilbert-base-uncased were not used when initializing DistilBertForSequenceClassification: ['vocab_transform.weight', 'vocab_transform.bias', 'vocab_layer_norm.weight', 'vocab_layer_norm.bias', 'vocab_projector.weight', 'vocab_projector.bias']\n",
      "- This IS expected if you are initializing DistilBertForSequenceClassification from the checkpoint of a model trained on another task or with another architecture (e.g. initializing a BertForSequenceClassification model from a BertForPreTraining model).\n",
      "- This IS NOT expected if you are initializing DistilBertForSequenceClassification from the checkpoint of a model that you expect to be exactly identical (initializing a BertForSequenceClassification model from a BertForSequenceClassification model).\n",
      "Some weights of DistilBertForSequenceClassification were not initialized from the model checkpoint at distilbert-base-uncased and are newly initialized: ['pre_classifier.weight', 'pre_classifier.bias', 'classifier.weight', 'classifier.bias']\n",
      "You should probably TRAIN this model on a down-stream task to be able to use it for predictions and inference.\n"
     ]
    },
    {
     "data": {
      "text/plain": [
       "DistilBertForSequenceClassification(\n",
       "  (distilbert): DistilBertModel(\n",
       "    (embeddings): Embeddings(\n",
       "      (word_embeddings): Embedding(30522, 768, padding_idx=0)\n",
       "      (position_embeddings): Embedding(512, 768)\n",
       "      (LayerNorm): LayerNorm((768,), eps=1e-12, elementwise_affine=True)\n",
       "      (dropout): Dropout(p=0.1, inplace=False)\n",
       "    )\n",
       "    (transformer): Transformer(\n",
       "      (layer): ModuleList(\n",
       "        (0): TransformerBlock(\n",
       "          (attention): MultiHeadSelfAttention(\n",
       "            (dropout): Dropout(p=0.1, inplace=False)\n",
       "            (q_lin): Linear(in_features=768, out_features=768, bias=True)\n",
       "            (k_lin): Linear(in_features=768, out_features=768, bias=True)\n",
       "            (v_lin): Linear(in_features=768, out_features=768, bias=True)\n",
       "            (out_lin): Linear(in_features=768, out_features=768, bias=True)\n",
       "          )\n",
       "          (sa_layer_norm): LayerNorm((768,), eps=1e-12, elementwise_affine=True)\n",
       "          (ffn): FFN(\n",
       "            (dropout): Dropout(p=0.1, inplace=False)\n",
       "            (lin1): Linear(in_features=768, out_features=3072, bias=True)\n",
       "            (lin2): Linear(in_features=3072, out_features=768, bias=True)\n",
       "          )\n",
       "          (output_layer_norm): LayerNorm((768,), eps=1e-12, elementwise_affine=True)\n",
       "        )\n",
       "        (1): TransformerBlock(\n",
       "          (attention): MultiHeadSelfAttention(\n",
       "            (dropout): Dropout(p=0.1, inplace=False)\n",
       "            (q_lin): Linear(in_features=768, out_features=768, bias=True)\n",
       "            (k_lin): Linear(in_features=768, out_features=768, bias=True)\n",
       "            (v_lin): Linear(in_features=768, out_features=768, bias=True)\n",
       "            (out_lin): Linear(in_features=768, out_features=768, bias=True)\n",
       "          )\n",
       "          (sa_layer_norm): LayerNorm((768,), eps=1e-12, elementwise_affine=True)\n",
       "          (ffn): FFN(\n",
       "            (dropout): Dropout(p=0.1, inplace=False)\n",
       "            (lin1): Linear(in_features=768, out_features=3072, bias=True)\n",
       "            (lin2): Linear(in_features=3072, out_features=768, bias=True)\n",
       "          )\n",
       "          (output_layer_norm): LayerNorm((768,), eps=1e-12, elementwise_affine=True)\n",
       "        )\n",
       "        (2): TransformerBlock(\n",
       "          (attention): MultiHeadSelfAttention(\n",
       "            (dropout): Dropout(p=0.1, inplace=False)\n",
       "            (q_lin): Linear(in_features=768, out_features=768, bias=True)\n",
       "            (k_lin): Linear(in_features=768, out_features=768, bias=True)\n",
       "            (v_lin): Linear(in_features=768, out_features=768, bias=True)\n",
       "            (out_lin): Linear(in_features=768, out_features=768, bias=True)\n",
       "          )\n",
       "          (sa_layer_norm): LayerNorm((768,), eps=1e-12, elementwise_affine=True)\n",
       "          (ffn): FFN(\n",
       "            (dropout): Dropout(p=0.1, inplace=False)\n",
       "            (lin1): Linear(in_features=768, out_features=3072, bias=True)\n",
       "            (lin2): Linear(in_features=3072, out_features=768, bias=True)\n",
       "          )\n",
       "          (output_layer_norm): LayerNorm((768,), eps=1e-12, elementwise_affine=True)\n",
       "        )\n",
       "        (3): TransformerBlock(\n",
       "          (attention): MultiHeadSelfAttention(\n",
       "            (dropout): Dropout(p=0.1, inplace=False)\n",
       "            (q_lin): Linear(in_features=768, out_features=768, bias=True)\n",
       "            (k_lin): Linear(in_features=768, out_features=768, bias=True)\n",
       "            (v_lin): Linear(in_features=768, out_features=768, bias=True)\n",
       "            (out_lin): Linear(in_features=768, out_features=768, bias=True)\n",
       "          )\n",
       "          (sa_layer_norm): LayerNorm((768,), eps=1e-12, elementwise_affine=True)\n",
       "          (ffn): FFN(\n",
       "            (dropout): Dropout(p=0.1, inplace=False)\n",
       "            (lin1): Linear(in_features=768, out_features=3072, bias=True)\n",
       "            (lin2): Linear(in_features=3072, out_features=768, bias=True)\n",
       "          )\n",
       "          (output_layer_norm): LayerNorm((768,), eps=1e-12, elementwise_affine=True)\n",
       "        )\n",
       "        (4): TransformerBlock(\n",
       "          (attention): MultiHeadSelfAttention(\n",
       "            (dropout): Dropout(p=0.1, inplace=False)\n",
       "            (q_lin): Linear(in_features=768, out_features=768, bias=True)\n",
       "            (k_lin): Linear(in_features=768, out_features=768, bias=True)\n",
       "            (v_lin): Linear(in_features=768, out_features=768, bias=True)\n",
       "            (out_lin): Linear(in_features=768, out_features=768, bias=True)\n",
       "          )\n",
       "          (sa_layer_norm): LayerNorm((768,), eps=1e-12, elementwise_affine=True)\n",
       "          (ffn): FFN(\n",
       "            (dropout): Dropout(p=0.1, inplace=False)\n",
       "            (lin1): Linear(in_features=768, out_features=3072, bias=True)\n",
       "            (lin2): Linear(in_features=3072, out_features=768, bias=True)\n",
       "          )\n",
       "          (output_layer_norm): LayerNorm((768,), eps=1e-12, elementwise_affine=True)\n",
       "        )\n",
       "        (5): TransformerBlock(\n",
       "          (attention): MultiHeadSelfAttention(\n",
       "            (dropout): Dropout(p=0.1, inplace=False)\n",
       "            (q_lin): Linear(in_features=768, out_features=768, bias=True)\n",
       "            (k_lin): Linear(in_features=768, out_features=768, bias=True)\n",
       "            (v_lin): Linear(in_features=768, out_features=768, bias=True)\n",
       "            (out_lin): Linear(in_features=768, out_features=768, bias=True)\n",
       "          )\n",
       "          (sa_layer_norm): LayerNorm((768,), eps=1e-12, elementwise_affine=True)\n",
       "          (ffn): FFN(\n",
       "            (dropout): Dropout(p=0.1, inplace=False)\n",
       "            (lin1): Linear(in_features=768, out_features=3072, bias=True)\n",
       "            (lin2): Linear(in_features=3072, out_features=768, bias=True)\n",
       "          )\n",
       "          (output_layer_norm): LayerNorm((768,), eps=1e-12, elementwise_affine=True)\n",
       "        )\n",
       "      )\n",
       "    )\n",
       "  )\n",
       "  (pre_classifier): Linear(in_features=768, out_features=768, bias=True)\n",
       "  (classifier): Sequential(\n",
       "    (0): Linear(in_features=768, out_features=5, bias=True)\n",
       "  )\n",
       "  (dropout): Dropout(p=0.2, inplace=False)\n",
       ")"
      ]
     },
     "execution_count": 88,
     "metadata": {},
     "output_type": "execute_result"
    }
   ],
   "source": [
    "tokenizer = DistilBertTokenizer.from_pretrained('distilbert-base-uncased')\n",
    "model = DistilBertForSequenceClassification.from_pretrained('distilbert-base-uncased').to(device)\n",
    "model.classifier = nn.Sequential(\n",
    "    nn.Linear(in_features=768, out_features=5, bias=True),\n",
    ").to(device)\n",
    "model.classifier.load_state_dict(torch.load('exp1/classifier.pt'))\n",
    "model.eval()"
   ]
  },
  {
   "cell_type": "code",
   "execution_count": 123,
   "id": "olympic-phase",
   "metadata": {},
   "outputs": [],
   "source": [
    "with torch.no_grad():\n",
    "    text, ratings = next(iter(val_loader))\n",
    "    inputs = tokenizer(text, return_tensors=\"pt\", padding=True, truncation=True)\n",
    "    logits = model(**inputs.to(device)).logits\n",
    "    _, pred = torch.max(logits, 1)"
   ]
  },
  {
   "cell_type": "code",
   "execution_count": 124,
   "id": "impressed-bridge",
   "metadata": {},
   "outputs": [
    {
     "data": {
      "text/plain": [
       "tensor([4, 0, 0, 1, 1, 2, 0, 3, 1, 1])"
      ]
     },
     "execution_count": 124,
     "metadata": {},
     "output_type": "execute_result"
    }
   ],
   "source": [
    "ratings"
   ]
  },
  {
   "cell_type": "code",
   "execution_count": 125,
   "id": "precise-province",
   "metadata": {},
   "outputs": [
    {
     "data": {
      "text/plain": [
       "tensor([2, 3, 3, 3, 3, 3, 3, 3, 3, 3], device='cuda:0')"
      ]
     },
     "execution_count": 125,
     "metadata": {},
     "output_type": "execute_result"
    }
   ],
   "source": [
    "pred"
   ]
  },
  {
   "cell_type": "code",
   "execution_count": 126,
   "id": "molecular-recorder",
   "metadata": {},
   "outputs": [
    {
     "data": {
      "text/plain": [
       "tensor(1, device='cuda:0')"
      ]
     },
     "execution_count": 126,
     "metadata": {},
     "output_type": "execute_result"
    }
   ],
   "source": [
    "(pred == ratings.to(device)).sum()"
   ]
  },
  {
   "cell_type": "code",
   "execution_count": null,
   "id": "opposed-amino",
   "metadata": {},
   "outputs": [],
   "source": []
  },
  {
   "cell_type": "markdown",
   "id": "sorted-georgia",
   "metadata": {},
   "source": [
    "# exp4 -  linear classifier on BERT hidden state w/ distance multiple to loss"
   ]
  },
  {
   "cell_type": "code",
   "execution_count": 46,
   "id": "provincial-percentage",
   "metadata": {},
   "outputs": [
    {
     "name": "stderr",
     "output_type": "stream",
     "text": [
      "Some weights of the model checkpoint at distilbert-base-uncased were not used when initializing DistilBertForSequenceClassification: ['vocab_transform.weight', 'vocab_transform.bias', 'vocab_layer_norm.weight', 'vocab_layer_norm.bias', 'vocab_projector.weight', 'vocab_projector.bias']\n",
      "- This IS expected if you are initializing DistilBertForSequenceClassification from the checkpoint of a model trained on another task or with another architecture (e.g. initializing a BertForSequenceClassification model from a BertForPreTraining model).\n",
      "- This IS NOT expected if you are initializing DistilBertForSequenceClassification from the checkpoint of a model that you expect to be exactly identical (initializing a BertForSequenceClassification model from a BertForSequenceClassification model).\n",
      "Some weights of DistilBertForSequenceClassification were not initialized from the model checkpoint at distilbert-base-uncased and are newly initialized: ['pre_classifier.weight', 'pre_classifier.bias', 'classifier.weight', 'classifier.bias']\n",
      "You should probably TRAIN this model on a down-stream task to be able to use it for predictions and inference.\n"
     ]
    }
   ],
   "source": [
    "tokenizer = DistilBertTokenizer.from_pretrained('distilbert-base-uncased')\n",
    "model = DistilBertForSequenceClassification.from_pretrained('distilbert-base-uncased').to(device)\n",
    "model.classifier = nn.Sequential(\n",
    "    nn.Linear(in_features=768, out_features=5, bias=True),\n",
    ").to(device)\n"
   ]
  },
  {
   "cell_type": "markdown",
   "id": "competitive-honduras",
   "metadata": {},
   "source": [
    "## Train the classifier"
   ]
  },
  {
   "cell_type": "code",
   "execution_count": 47,
   "id": "maritime-isaac",
   "metadata": {},
   "outputs": [],
   "source": [
    "optimizer = torch.optim.Adam(model.classifier.parameters())\n",
    "loss_fn = nn.CrossEntropyLoss(reduction='sum')"
   ]
  },
  {
   "cell_type": "code",
   "execution_count": 48,
   "id": "equal-bahrain",
   "metadata": {},
   "outputs": [],
   "source": [
    "def expected_rating(logits):\n",
    "    \"\"\"Computes expected rating from logits \\in [1, 5]\"\"\"\n",
    "    probs = torch.softmax(logits, dim=1)\n",
    "    return torch.matmul(probs, torch.tensor([1., 2., 3., 4., 5.]).to(device))"
   ]
  },
  {
   "cell_type": "markdown",
   "id": "municipal-acceptance",
   "metadata": {},
   "source": [
    "### Let's start with 1 epoch"
   ]
  },
  {
   "cell_type": "code",
   "execution_count": 49,
   "id": "julian-looking",
   "metadata": {},
   "outputs": [],
   "source": [
    "num_batches = []\n",
    "val_accuracies = []\n",
    "val_losses = []\n",
    "val_errors = []"
   ]
  },
  {
   "cell_type": "code",
   "execution_count": 50,
   "id": "offshore-death",
   "metadata": {},
   "outputs": [
    {
     "data": {
      "application/vnd.jupyter.widget-view+json": {
       "model_id": "104d9a958dc945eaab95f9b34b3927a2",
       "version_major": 2,
       "version_minor": 0
      },
      "text/plain": [
       "  0%|          | 0/7000 [00:00<?, ?it/s]"
      ]
     },
     "metadata": {},
     "output_type": "display_data"
    },
    {
     "name": "stdout",
     "output_type": "stream",
     "text": [
      "Val Acc: 7.13%\n",
      "Val Err: 1.67\n",
      "Val Acc: 50.80%\n",
      "Val Err: 1.19\n",
      "Val Acc: 61.07%\n",
      "Val Err: 1.00\n",
      "Val Acc: 65.53%\n",
      "Val Err: 0.90\n",
      "Val Acc: 69.80%\n",
      "Val Err: 0.87\n",
      "Val Acc: 64.87%\n",
      "Val Err: 0.82\n",
      "Val Acc: 68.67%\n",
      "Val Err: 0.77\n",
      "Val Acc: 68.07%\n",
      "Val Err: 0.75\n",
      "Val Acc: 69.80%\n",
      "Val Err: 0.74\n",
      "Val Acc: 70.87%\n",
      "Val Err: 0.66\n",
      "Val Acc: 71.87%\n",
      "Val Err: 0.66\n",
      "Val Acc: 71.20%\n",
      "Val Err: 0.63\n",
      "Val Acc: 71.13%\n",
      "Val Err: 0.66\n",
      "Val Acc: 68.73%\n",
      "Val Err: 0.65\n",
      "Val Acc: 71.67%\n",
      "Val Err: 0.63\n",
      "Val Acc: 68.33%\n",
      "Val Err: 0.61\n",
      "Val Acc: 71.87%\n",
      "Val Err: 0.61\n",
      "Val Acc: 69.73%\n",
      "Val Err: 0.60\n",
      "Val Acc: 69.00%\n",
      "Val Err: 0.63\n",
      "Val Acc: 70.73%\n",
      "Val Err: 0.59\n",
      "Val Acc: 69.13%\n",
      "Val Err: 0.57\n",
      "Val Acc: 69.13%\n",
      "Val Err: 0.62\n",
      "Val Acc: 71.27%\n",
      "Val Err: 0.59\n",
      "Val Acc: 69.47%\n",
      "Val Err: 0.59\n",
      "Val Acc: 70.60%\n",
      "Val Err: 0.59\n",
      "Val Acc: 72.67%\n",
      "Val Err: 0.59\n",
      "Val Acc: 71.47%\n",
      "Val Err: 0.54\n",
      "Val Acc: 70.07%\n",
      "Val Err: 0.53\n",
      "Val Acc: 70.07%\n",
      "Val Err: 0.56\n",
      "Val Acc: 70.73%\n",
      "Val Err: 0.54\n",
      "Val Acc: 70.07%\n",
      "Val Err: 0.53\n"
     ]
    }
   ],
   "source": [
    "batches = 7000\n",
    "\n",
    "model.train()\n",
    "for i, (reviews, classes) in enumerate(tqdm(islice(train_loader, batches), total=batches)): # use the term 'class' instead of 'rating' to denote that class = rating - 1\n",
    "    \n",
    "    if i % (batches // 30) == 0: # do 30 val acc computations\n",
    "        model.eval()\n",
    "        val_loss = 0\n",
    "        val_accuracy = 0\n",
    "        val_error = 0\n",
    "        outof = 0\n",
    "        with torch.no_grad():\n",
    "            for reviews, classes in islice(val_loader, 150): # 150 * batch_size examples to evaluate on\n",
    "                inputs = tokenizer(reviews, return_tensors=\"pt\", padding=True, truncation=True)\n",
    "                logits = model(**inputs.to(device)).logits\n",
    "                _, pred = torch.max(logits, 1)\n",
    "                val_accuracy += (pred == classes.to(device)).sum().item()\n",
    "                val_loss += loss_fn(logits, classes.to(device))\n",
    "                val_error += ((classes.to(device) + 1) - expected_rating(logits)).abs().sum()\n",
    "                outof += len(classes)\n",
    "        print(\"Val Acc: {:.2f}%\".format(val_accuracy / outof * 100))\n",
    "        print(\"Val Err: {:.2f}\".format(val_error / outof))\n",
    "        num_batches.append(i)\n",
    "        val_accuracies.append(val_accuracy / outof)\n",
    "        val_losses.append(val_loss / outof)\n",
    "        val_errors.append(val_error / outof)\n",
    "        model.train()\n",
    "    \n",
    "    optimizer.zero_grad()\n",
    "    inputs = tokenizer(reviews, return_tensors=\"pt\", padding=True, truncation=True)\n",
    "    logits = model(**inputs.to(device)).logits\n",
    "    loss = loss_fn(logits, classes.to(device)) * ((classes.to(device) + 1) - expected_rating(logits)).abs().sum()\n",
    "    loss.backward()\n",
    "    optimizer.step()\n",
    "        "
   ]
  },
  {
   "cell_type": "code",
   "execution_count": 51,
   "id": "specified-powder",
   "metadata": {},
   "outputs": [],
   "source": [
    "p = pathlib.Path('exp4')\n",
    "p.mkdir()"
   ]
  },
  {
   "cell_type": "code",
   "execution_count": 52,
   "id": "voluntary-lucas",
   "metadata": {},
   "outputs": [],
   "source": [
    "torch.save({\n",
    "    'batches': num_batches,\n",
    "    'accuracies': val_accuracies,\n",
    "    'losses': val_losses,\n",
    "    'errors': val_errors\n",
    "}, p/\"training_data.pt\")"
   ]
  },
  {
   "cell_type": "code",
   "execution_count": 53,
   "id": "southeast-objective",
   "metadata": {},
   "outputs": [
    {
     "data": {
      "image/png": "[encoded data removed]",
      "text/plain": [
       "<Figure size 432x288 with 1 Axes>"
      ]
     },
     "metadata": {
      "needs_background": "light"
     },
     "output_type": "display_data"
    }
   ],
   "source": [
    "plt.plot(num_batches, val_accuracies)\n",
    "plt.ylabel(\"Validation Accuracy\")\n",
    "plt.xlabel(\"Batches\")\n",
    "plt.title(\"DistilBERT Linear Head\")\n",
    "plt.savefig(p/\"accuracy_plot.pdf\")"
   ]
  },
  {
   "cell_type": "code",
   "execution_count": 67,
   "id": "wrong-promise",
   "metadata": {},
   "outputs": [
    {
     "data": {
      "image/png": "[encoded data removed]",
      "text/plain": [
       "<Figure size 432x288 with 1 Axes>"
      ]
     },
     "metadata": {
      "needs_background": "light"
     },
     "output_type": "display_data"
    }
   ],
   "source": [
    "plt.plot(num_batches, val_errors)\n",
    "plt.ylabel(\"Mean Validation Rating Error\")\n",
    "plt.xlabel(\"Batches\")\n",
    "plt.title(\"DistilBERT Linear Head\")\n",
    "plt.savefig(p/\"error_plot.pdf\")"
   ]
  },
  {
   "cell_type": "code",
   "execution_count": 68,
   "id": "logical-calculation",
   "metadata": {},
   "outputs": [],
   "source": [
    "torch.save(model.classifier.state_dict(), p/\"classifier.pt\")"
   ]
  },
  {
   "cell_type": "code",
   "execution_count": null,
   "id": "premier-sleeping",
   "metadata": {},
   "outputs": [],
   "source": []
  },
  {
   "cell_type": "code",
   "execution_count": null,
   "id": "durable-submission",
   "metadata": {},
   "outputs": [],
   "source": []
  },
  {
   "cell_type": "code",
   "execution_count": null,
   "id": "advisory-genius",
   "metadata": {},
   "outputs": [],
   "source": []
  },
  {
   "cell_type": "code",
   "execution_count": 11,
   "id": "infectious-connecticut",
   "metadata": {},
   "outputs": [
    {
     "name": "stderr",
     "output_type": "stream",
     "text": [
      "Some weights of the model checkpoint at distilbert-base-uncased were not used when initializing DistilBertForSequenceClassification: ['vocab_transform.weight', 'vocab_transform.bias', 'vocab_layer_norm.weight', 'vocab_layer_norm.bias', 'vocab_projector.weight', 'vocab_projector.bias']\n",
      "- This IS expected if you are initializing DistilBertForSequenceClassification from the checkpoint of a model trained on another task or with another architecture (e.g. initializing a BertForSequenceClassification model from a BertForPreTraining model).\n",
      "- This IS NOT expected if you are initializing DistilBertForSequenceClassification from the checkpoint of a model that you expect to be exactly identical (initializing a BertForSequenceClassification model from a BertForSequenceClassification model).\n",
      "Some weights of DistilBertForSequenceClassification were not initialized from the model checkpoint at distilbert-base-uncased and are newly initialized: ['pre_classifier.weight', 'pre_classifier.bias', 'classifier.weight', 'classifier.bias']\n",
      "You should probably TRAIN this model on a down-stream task to be able to use it for predictions and inference.\n"
     ]
    }
   ],
   "source": [
    "tokenizer = DistilBertTokenizer.from_pretrained('distilbert-base-uncased')\n",
    "model = DistilBertForSequenceClassification.from_pretrained('distilbert-base-uncased').to(device)\n",
    "model.classifier = nn.Sequential(\n",
    "    nn.Linear(in_features=768, out_features=5, bias=True),\n",
    ").to(device)"
   ]
  },
  {
   "cell_type": "code",
   "execution_count": 18,
   "id": "removable-carnival",
   "metadata": {},
   "outputs": [],
   "source": [
    "text = \"Great place! 5 stars.\""
   ]
  },
  {
   "cell_type": "code",
   "execution_count": 19,
   "id": "specified-factor",
   "metadata": {},
   "outputs": [],
   "source": [
    "inputs = tokenizer(text, return_tensors=\"pt\", padding=True, truncation=True)"
   ]
  },
  {
   "cell_type": "code",
   "execution_count": 24,
   "id": "sealed-master",
   "metadata": {},
   "outputs": [
    {
     "data": {
      "text/plain": [
       "tensor([[ 101, 2307, 2173,  999, 1019, 3340, 1012,  102]])"
      ]
     },
     "execution_count": 24,
     "metadata": {},
     "output_type": "execute_result"
    }
   ],
   "source": [
    "inputs['input_ids']"
   ]
  },
  {
   "cell_type": "code",
   "execution_count": null,
   "id": "incorporate-cooling",
   "metadata": {},
   "outputs": [],
   "source": []
  },
  {
   "cell_type": "code",
   "execution_count": null,
   "id": "pending-password",
   "metadata": {},
   "outputs": [],
   "source": []
  },
  {
   "cell_type": "code",
   "execution_count": null,
   "id": "appreciated-helen",
   "metadata": {},
   "outputs": [],
   "source": []
  },
  {
   "cell_type": "code",
   "execution_count": 57,
   "id": "allied-comfort",
   "metadata": {},
   "outputs": [],
   "source": [
    "logits = model(**inputs.to(device)).logits"
   ]
  },
  {
   "cell_type": "code",
   "execution_count": 60,
   "id": "greatest-nicholas",
   "metadata": {},
   "outputs": [
    {
     "data": {
      "text/plain": [
       "tensor([[0.0091, 0.0016, 0.0031, 0.0375, 0.9487]], device='cuda:0',\n",
       "       grad_fn=<SoftmaxBackward>)"
      ]
     },
     "execution_count": 60,
     "metadata": {},
     "output_type": "execute_result"
    }
   ],
   "source": [
    "torch.softmax(logits, dim=1)"
   ]
  },
  {
   "cell_type": "code",
   "execution_count": 61,
   "id": "suffering-forum",
   "metadata": {},
   "outputs": [],
   "source": [
    "_, pred = torch.max(logits, 1)"
   ]
  },
  {
   "cell_type": "code",
   "execution_count": 66,
   "id": "sorted-valuable",
   "metadata": {},
   "outputs": [
    {
     "data": {
      "text/plain": [
       "4.0"
      ]
     },
     "execution_count": 66,
     "metadata": {},
     "output_type": "execute_result"
    }
   ],
   "source": [
    "float(pred.item())"
   ]
  },
  {
   "cell_type": "code",
   "execution_count": null,
   "id": "institutional-arkansas",
   "metadata": {},
   "outputs": [],
   "source": []
  },
  {
   "cell_type": "code",
   "execution_count": null,
   "id": "martial-discount",
   "metadata": {},
   "outputs": [],
   "source": []
  },
  {
   "cell_type": "code",
   "execution_count": null,
   "id": "hundred-burton",
   "metadata": {},
   "outputs": [],
   "source": []
  },
  {
   "cell_type": "code",
   "execution_count": null,
   "id": "lasting-pound",
   "metadata": {},
   "outputs": [],
   "source": []
  },
  {
   "cell_type": "code",
   "execution_count": null,
   "id": "adequate-compromise",
   "metadata": {},
   "outputs": [],
   "source": []
  },
  {
   "cell_type": "code",
   "execution_count": null,
   "id": "grateful-arrival",
   "metadata": {},
   "outputs": [],
   "source": []
  },
  {
   "cell_type": "code",
   "execution_count": null,
   "id": "protective-logging",
   "metadata": {},
   "outputs": [],
   "source": []
  },
  {
   "cell_type": "code",
   "execution_count": null,
   "id": "automatic-fellow",
   "metadata": {},
   "outputs": [],
   "source": []
  },
  {
   "cell_type": "code",
   "execution_count": null,
   "id": "quick-colonial",
   "metadata": {},
   "outputs": [],
   "source": []
  }
 ],
 "metadata": {
  "kernelspec": {
   "display_name": "Python 3",
   "language": "python",
   "name": "python3"
  },
  "language_info": {
   "codemirror_mode": {
    "name": "ipython",
    "version": 3
   },
   "file_extension": ".py",
   "mimetype": "text/x-python",
   "name": "python",
   "nbconvert_exporter": "python",
   "pygments_lexer": "ipython3",
   "version": "3.8.8"
  }
 },
 "nbformat": 4,
 "nbformat_minor": 5
}
